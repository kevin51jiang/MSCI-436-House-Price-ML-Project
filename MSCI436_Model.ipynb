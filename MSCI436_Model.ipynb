{
  "cells": [
    {
      "cell_type": "markdown",
      "metadata": {
        "colab_type": "text",
        "id": "view-in-github"
      },
      "source": [
        "<a href=\"https://colab.research.google.com/github/vik01/MSCI-436-House-Price-ML-Project/blob/main/MSCI436_Model.ipynb\" target=\"_parent\"><img src=\"https://colab.research.google.com/assets/colab-badge.svg\" alt=\"Open In Colab\"/></a>"
      ]
    },
    {
      "cell_type": "markdown",
      "metadata": {
        "id": "jDYi_l442kMB"
      },
      "source": [
        "# Introductions"
      ]
    },
    {
      "cell_type": "markdown",
      "metadata": {
        "id": "NTv4qQnR1UIo"
      },
      "source": [
        "**Imports:**"
      ]
    },
    {
      "cell_type": "code",
      "execution_count": null,
      "metadata": {
        "id": "902U4lIytU3E"
      },
      "outputs": [],
      "source": [
        "import numpy as np\n",
        "import pandas as pd\n",
        "from sklearn.linear_model import LinearRegression\n",
        "from sklearn.metrics import mean_squared_error, r2_score\n",
        "import io"
      ]
    },
    {
      "cell_type": "markdown",
      "metadata": {
        "id": "-2_a8NLG1Yrl"
      },
      "source": [
        "**Get data from host directory:**"
      ]
    },
    {
      "cell_type": "code",
      "execution_count": null,
      "metadata": {
        "colab": {
          "base_uri": "https://localhost:8080/"
        },
        "collapsed": true,
        "id": "vwVv1neywRnk",
        "outputId": "1b1d2470-80b9-4d59-e0b0-6568fc5c0ca8"
      },
      "outputs": [
        {
          "name": "stdout",
          "output_type": "stream",
          "text": [
            "rm: cannot remove 'data': No such file or directory\n",
            "--2023-07-12 00:25:58--  https://kevinjiang.ca/privfiles/houseprices.zip\n",
            "Resolving kevinjiang.ca (kevinjiang.ca)... 185.199.111.153, 185.199.109.153, 185.199.108.153, ...\n",
            "Connecting to kevinjiang.ca (kevinjiang.ca)|185.199.111.153|:443... connected.\n",
            "HTTP request sent, awaiting response... 200 OK\n",
            "Length: 203809 (199K) [application/zip]\n",
            "Saving to: ‘houseprices.zip’\n",
            "\n",
            "houseprices.zip     100%[===================>] 199.03K  --.-KB/s    in 0.03s   \n",
            "\n",
            "2023-07-12 00:25:58 (7.53 MB/s) - ‘houseprices.zip’ saved [203809/203809]\n",
            "\n",
            "Archive:  houseprices.zip\n",
            "  inflating: data/data_description.txt  \n",
            "  inflating: data/sample_submission.csv  \n",
            "  inflating: data/test.csv           \n",
            "  inflating: data/train.csv          \n"
          ]
        }
      ],
      "source": [
        "! rm -r data\n",
        "! mkdir data\n",
        "! wget -O houseprices.zip https://kevinjiang.ca/privfiles/houseprices.zip\n",
        "! unzip houseprices.zip -d data"
      ]
    },
    {
      "cell_type": "markdown",
      "metadata": {
        "id": "HSfrcTSa2PmW"
      },
      "source": [
        "**Load data:**"
      ]
    },
    {
      "cell_type": "code",
      "execution_count": null,
      "metadata": {
        "id": "tejXSVULwmAe"
      },
      "outputs": [],
      "source": [
        "test_data = pd.read_csv(\"data/test.csv\")\n",
        "test_y = pd.read_csv(\"data/sample_submission.csv\")\n",
        "train_data = pd.read_csv(\"data/train.csv\")"
      ]
    },
    {
      "cell_type": "markdown",
      "metadata": {
        "id": "Eb8BsTeb2c9G"
      },
      "source": [
        "# Add data into dataframes"
      ]
    },
    {
      "cell_type": "code",
      "execution_count": null,
      "metadata": {
        "colab": {
          "base_uri": "https://localhost:8080/"
        },
        "id": "vHAGQ8ZT_Pfe",
        "outputId": "1dd8cd69-4e8a-43af-937d-9bc1479b4650"
      },
      "outputs": [
        {
          "data": {
            "text/plain": [
              "(1460, 34)"
            ]
          },
          "execution_count": 46,
          "metadata": {},
          "output_type": "execute_result"
        }
      ],
      "source": [
        "cat_to_num = ['MSSubClass', 'OverallQual', 'OverallCond']\n",
        "numeric_df = train_data.select_dtypes(include = ['int64', 'float64']).drop(columns = 'SalePrice')\n",
        "numeric_df = numeric_df.select_dtypes(include = ['int64', 'float64']).drop(columns = cat_to_num)\n",
        "non_numeric_columns = train_data.columns[(train_data.dtypes != 'int64') & (train_data.dtypes != 'float64')].tolist()\n",
        "non_numeric_columns.extend(cat_to_num)\n",
        "\n",
        "numeric_df.shape"
      ]
    },
    {
      "cell_type": "code",
      "execution_count": null,
      "metadata": {
        "id": "d6cxTVRZh_bf"
      },
      "outputs": [],
      "source": [
        "null_cols = numeric_df.columns[numeric_df.isna().any()].tolist()\n",
        "# impute NULL values with mean (LotFrontage, MasVnrArea, GarageYrBlt)\n",
        "for col in null_cols:\n",
        "  mean = numeric_df[col].mean()\n",
        "  numeric_df[col].fillna(value = mean, inplace = True)"
      ]
    },
    {
      "cell_type": "code",
      "execution_count": null,
      "metadata": {
        "colab": {
          "base_uri": "https://localhost:8080/",
          "height": 488
        },
        "id": "FCR9m0rhfHvg",
        "outputId": "2e4cbe5f-c474-448f-cf84-b9a01cbc3efd"
      },
      "outputs": [
        {
          "data": {
            "text/html": [
              "\n",
              "\n",
              "  <div id=\"df-ce9eaacb-d70c-458b-9a67-d7ded0fa9f78\">\n",
              "    <div class=\"colab-df-container\">\n",
              "      <div>\n",
              "<style scoped>\n",
              "    .dataframe tbody tr th:only-of-type {\n",
              "        vertical-align: middle;\n",
              "    }\n",
              "\n",
              "    .dataframe tbody tr th {\n",
              "        vertical-align: top;\n",
              "    }\n",
              "\n",
              "    .dataframe thead th {\n",
              "        text-align: right;\n",
              "    }\n",
              "</style>\n",
              "<table border=\"1\" class=\"dataframe\">\n",
              "  <thead>\n",
              "    <tr style=\"text-align: right;\">\n",
              "      <th></th>\n",
              "      <th>Id</th>\n",
              "      <th>LotFrontage</th>\n",
              "      <th>LotArea</th>\n",
              "      <th>YearBuilt</th>\n",
              "      <th>YearRemodAdd</th>\n",
              "      <th>MasVnrArea</th>\n",
              "      <th>BsmtFinSF1</th>\n",
              "      <th>BsmtFinSF2</th>\n",
              "      <th>BsmtUnfSF</th>\n",
              "      <th>TotalBsmtSF</th>\n",
              "      <th>...</th>\n",
              "      <th>GarageArea</th>\n",
              "      <th>WoodDeckSF</th>\n",
              "      <th>OpenPorchSF</th>\n",
              "      <th>EnclosedPorch</th>\n",
              "      <th>3SsnPorch</th>\n",
              "      <th>ScreenPorch</th>\n",
              "      <th>PoolArea</th>\n",
              "      <th>MiscVal</th>\n",
              "      <th>MoSold</th>\n",
              "      <th>YrSold</th>\n",
              "    </tr>\n",
              "  </thead>\n",
              "  <tbody>\n",
              "    <tr>\n",
              "      <th>0</th>\n",
              "      <td>1</td>\n",
              "      <td>65.0</td>\n",
              "      <td>8450</td>\n",
              "      <td>2003</td>\n",
              "      <td>2003</td>\n",
              "      <td>196.0</td>\n",
              "      <td>706</td>\n",
              "      <td>0</td>\n",
              "      <td>150</td>\n",
              "      <td>856</td>\n",
              "      <td>...</td>\n",
              "      <td>548</td>\n",
              "      <td>0</td>\n",
              "      <td>61</td>\n",
              "      <td>0</td>\n",
              "      <td>0</td>\n",
              "      <td>0</td>\n",
              "      <td>0</td>\n",
              "      <td>0</td>\n",
              "      <td>2</td>\n",
              "      <td>2008</td>\n",
              "    </tr>\n",
              "    <tr>\n",
              "      <th>2</th>\n",
              "      <td>3</td>\n",
              "      <td>68.0</td>\n",
              "      <td>11250</td>\n",
              "      <td>2001</td>\n",
              "      <td>2002</td>\n",
              "      <td>162.0</td>\n",
              "      <td>486</td>\n",
              "      <td>0</td>\n",
              "      <td>434</td>\n",
              "      <td>920</td>\n",
              "      <td>...</td>\n",
              "      <td>608</td>\n",
              "      <td>0</td>\n",
              "      <td>42</td>\n",
              "      <td>0</td>\n",
              "      <td>0</td>\n",
              "      <td>0</td>\n",
              "      <td>0</td>\n",
              "      <td>0</td>\n",
              "      <td>9</td>\n",
              "      <td>2008</td>\n",
              "    </tr>\n",
              "    <tr>\n",
              "      <th>4</th>\n",
              "      <td>5</td>\n",
              "      <td>84.0</td>\n",
              "      <td>14260</td>\n",
              "      <td>2000</td>\n",
              "      <td>2000</td>\n",
              "      <td>350.0</td>\n",
              "      <td>655</td>\n",
              "      <td>0</td>\n",
              "      <td>490</td>\n",
              "      <td>1145</td>\n",
              "      <td>...</td>\n",
              "      <td>836</td>\n",
              "      <td>192</td>\n",
              "      <td>84</td>\n",
              "      <td>0</td>\n",
              "      <td>0</td>\n",
              "      <td>0</td>\n",
              "      <td>0</td>\n",
              "      <td>0</td>\n",
              "      <td>12</td>\n",
              "      <td>2008</td>\n",
              "    </tr>\n",
              "    <tr>\n",
              "      <th>6</th>\n",
              "      <td>7</td>\n",
              "      <td>75.0</td>\n",
              "      <td>10084</td>\n",
              "      <td>2004</td>\n",
              "      <td>2005</td>\n",
              "      <td>186.0</td>\n",
              "      <td>1369</td>\n",
              "      <td>0</td>\n",
              "      <td>317</td>\n",
              "      <td>1686</td>\n",
              "      <td>...</td>\n",
              "      <td>636</td>\n",
              "      <td>255</td>\n",
              "      <td>57</td>\n",
              "      <td>0</td>\n",
              "      <td>0</td>\n",
              "      <td>0</td>\n",
              "      <td>0</td>\n",
              "      <td>0</td>\n",
              "      <td>8</td>\n",
              "      <td>2007</td>\n",
              "    </tr>\n",
              "    <tr>\n",
              "      <th>10</th>\n",
              "      <td>11</td>\n",
              "      <td>70.0</td>\n",
              "      <td>11200</td>\n",
              "      <td>1965</td>\n",
              "      <td>1965</td>\n",
              "      <td>0.0</td>\n",
              "      <td>906</td>\n",
              "      <td>0</td>\n",
              "      <td>134</td>\n",
              "      <td>1040</td>\n",
              "      <td>...</td>\n",
              "      <td>384</td>\n",
              "      <td>0</td>\n",
              "      <td>0</td>\n",
              "      <td>0</td>\n",
              "      <td>0</td>\n",
              "      <td>0</td>\n",
              "      <td>0</td>\n",
              "      <td>0</td>\n",
              "      <td>2</td>\n",
              "      <td>2008</td>\n",
              "    </tr>\n",
              "    <tr>\n",
              "      <th>...</th>\n",
              "      <td>...</td>\n",
              "      <td>...</td>\n",
              "      <td>...</td>\n",
              "      <td>...</td>\n",
              "      <td>...</td>\n",
              "      <td>...</td>\n",
              "      <td>...</td>\n",
              "      <td>...</td>\n",
              "      <td>...</td>\n",
              "      <td>...</td>\n",
              "      <td>...</td>\n",
              "      <td>...</td>\n",
              "      <td>...</td>\n",
              "      <td>...</td>\n",
              "      <td>...</td>\n",
              "      <td>...</td>\n",
              "      <td>...</td>\n",
              "      <td>...</td>\n",
              "      <td>...</td>\n",
              "      <td>...</td>\n",
              "      <td>...</td>\n",
              "    </tr>\n",
              "    <tr>\n",
              "      <th>1452</th>\n",
              "      <td>1453</td>\n",
              "      <td>35.0</td>\n",
              "      <td>3675</td>\n",
              "      <td>2005</td>\n",
              "      <td>2005</td>\n",
              "      <td>80.0</td>\n",
              "      <td>547</td>\n",
              "      <td>0</td>\n",
              "      <td>0</td>\n",
              "      <td>547</td>\n",
              "      <td>...</td>\n",
              "      <td>525</td>\n",
              "      <td>0</td>\n",
              "      <td>28</td>\n",
              "      <td>0</td>\n",
              "      <td>0</td>\n",
              "      <td>0</td>\n",
              "      <td>0</td>\n",
              "      <td>0</td>\n",
              "      <td>5</td>\n",
              "      <td>2006</td>\n",
              "    </tr>\n",
              "    <tr>\n",
              "      <th>1453</th>\n",
              "      <td>1454</td>\n",
              "      <td>90.0</td>\n",
              "      <td>17217</td>\n",
              "      <td>2006</td>\n",
              "      <td>2006</td>\n",
              "      <td>0.0</td>\n",
              "      <td>0</td>\n",
              "      <td>0</td>\n",
              "      <td>1140</td>\n",
              "      <td>1140</td>\n",
              "      <td>...</td>\n",
              "      <td>0</td>\n",
              "      <td>36</td>\n",
              "      <td>56</td>\n",
              "      <td>0</td>\n",
              "      <td>0</td>\n",
              "      <td>0</td>\n",
              "      <td>0</td>\n",
              "      <td>0</td>\n",
              "      <td>7</td>\n",
              "      <td>2006</td>\n",
              "    </tr>\n",
              "    <tr>\n",
              "      <th>1454</th>\n",
              "      <td>1455</td>\n",
              "      <td>62.0</td>\n",
              "      <td>7500</td>\n",
              "      <td>2004</td>\n",
              "      <td>2005</td>\n",
              "      <td>0.0</td>\n",
              "      <td>410</td>\n",
              "      <td>0</td>\n",
              "      <td>811</td>\n",
              "      <td>1221</td>\n",
              "      <td>...</td>\n",
              "      <td>400</td>\n",
              "      <td>0</td>\n",
              "      <td>113</td>\n",
              "      <td>0</td>\n",
              "      <td>0</td>\n",
              "      <td>0</td>\n",
              "      <td>0</td>\n",
              "      <td>0</td>\n",
              "      <td>10</td>\n",
              "      <td>2009</td>\n",
              "    </tr>\n",
              "    <tr>\n",
              "      <th>1455</th>\n",
              "      <td>1456</td>\n",
              "      <td>62.0</td>\n",
              "      <td>7917</td>\n",
              "      <td>1999</td>\n",
              "      <td>2000</td>\n",
              "      <td>0.0</td>\n",
              "      <td>0</td>\n",
              "      <td>0</td>\n",
              "      <td>953</td>\n",
              "      <td>953</td>\n",
              "      <td>...</td>\n",
              "      <td>460</td>\n",
              "      <td>0</td>\n",
              "      <td>40</td>\n",
              "      <td>0</td>\n",
              "      <td>0</td>\n",
              "      <td>0</td>\n",
              "      <td>0</td>\n",
              "      <td>0</td>\n",
              "      <td>8</td>\n",
              "      <td>2007</td>\n",
              "    </tr>\n",
              "    <tr>\n",
              "      <th>1456</th>\n",
              "      <td>1457</td>\n",
              "      <td>85.0</td>\n",
              "      <td>13175</td>\n",
              "      <td>1978</td>\n",
              "      <td>1988</td>\n",
              "      <td>119.0</td>\n",
              "      <td>790</td>\n",
              "      <td>163</td>\n",
              "      <td>589</td>\n",
              "      <td>1542</td>\n",
              "      <td>...</td>\n",
              "      <td>500</td>\n",
              "      <td>349</td>\n",
              "      <td>0</td>\n",
              "      <td>0</td>\n",
              "      <td>0</td>\n",
              "      <td>0</td>\n",
              "      <td>0</td>\n",
              "      <td>0</td>\n",
              "      <td>2</td>\n",
              "      <td>2010</td>\n",
              "    </tr>\n",
              "  </tbody>\n",
              "</table>\n",
              "<p>1042 rows × 34 columns</p>\n",
              "</div>\n",
              "      <button class=\"colab-df-convert\" onclick=\"convertToInteractive('df-ce9eaacb-d70c-458b-9a67-d7ded0fa9f78')\"\n",
              "              title=\"Convert this dataframe to an interactive table.\"\n",
              "              style=\"display:none;\">\n",
              "\n",
              "  <svg xmlns=\"http://www.w3.org/2000/svg\" height=\"24px\"viewBox=\"0 0 24 24\"\n",
              "       width=\"24px\">\n",
              "    <path d=\"M0 0h24v24H0V0z\" fill=\"none\"/>\n",
              "    <path d=\"M18.56 5.44l.94 2.06.94-2.06 2.06-.94-2.06-.94-.94-2.06-.94 2.06-2.06.94zm-11 1L8.5 8.5l.94-2.06 2.06-.94-2.06-.94L8.5 2.5l-.94 2.06-2.06.94zm10 10l.94 2.06.94-2.06 2.06-.94-2.06-.94-.94-2.06-.94 2.06-2.06.94z\"/><path d=\"M17.41 7.96l-1.37-1.37c-.4-.4-.92-.59-1.43-.59-.52 0-1.04.2-1.43.59L10.3 9.45l-7.72 7.72c-.78.78-.78 2.05 0 2.83L4 21.41c.39.39.9.59 1.41.59.51 0 1.02-.2 1.41-.59l7.78-7.78 2.81-2.81c.8-.78.8-2.07 0-2.86zM5.41 20L4 18.59l7.72-7.72 1.47 1.35L5.41 20z\"/>\n",
              "  </svg>\n",
              "      </button>\n",
              "\n",
              "\n",
              "\n",
              "    <div id=\"df-de06180f-4c0f-4266-8c5a-ed508b1697e5\">\n",
              "      <button class=\"colab-df-quickchart\" onclick=\"quickchart('df-de06180f-4c0f-4266-8c5a-ed508b1697e5')\"\n",
              "              title=\"Suggest charts.\"\n",
              "              style=\"display:none;\">\n",
              "\n",
              "<svg xmlns=\"http://www.w3.org/2000/svg\" height=\"24px\"viewBox=\"0 0 24 24\"\n",
              "     width=\"24px\">\n",
              "    <g>\n",
              "        <path d=\"M19 3H5c-1.1 0-2 .9-2 2v14c0 1.1.9 2 2 2h14c1.1 0 2-.9 2-2V5c0-1.1-.9-2-2-2zM9 17H7v-7h2v7zm4 0h-2V7h2v10zm4 0h-2v-4h2v4z\"/>\n",
              "    </g>\n",
              "</svg>\n",
              "      </button>\n",
              "    </div>\n",
              "\n",
              "<style>\n",
              "  .colab-df-quickchart {\n",
              "    background-color: #E8F0FE;\n",
              "    border: none;\n",
              "    border-radius: 50%;\n",
              "    cursor: pointer;\n",
              "    display: none;\n",
              "    fill: #1967D2;\n",
              "    height: 32px;\n",
              "    padding: 0 0 0 0;\n",
              "    width: 32px;\n",
              "  }\n",
              "\n",
              "  .colab-df-quickchart:hover {\n",
              "    background-color: #E2EBFA;\n",
              "    box-shadow: 0px 1px 2px rgba(60, 64, 67, 0.3), 0px 1px 3px 1px rgba(60, 64, 67, 0.15);\n",
              "    fill: #174EA6;\n",
              "  }\n",
              "\n",
              "  [theme=dark] .colab-df-quickchart {\n",
              "    background-color: #3B4455;\n",
              "    fill: #D2E3FC;\n",
              "  }\n",
              "\n",
              "  [theme=dark] .colab-df-quickchart:hover {\n",
              "    background-color: #434B5C;\n",
              "    box-shadow: 0px 1px 3px 1px rgba(0, 0, 0, 0.15);\n",
              "    filter: drop-shadow(0px 1px 2px rgba(0, 0, 0, 0.3));\n",
              "    fill: #FFFFFF;\n",
              "  }\n",
              "</style>\n",
              "\n",
              "    <script>\n",
              "      async function quickchart(key) {\n",
              "        const containerElement = document.querySelector('#' + key);\n",
              "        const charts = await google.colab.kernel.invokeFunction(\n",
              "            'suggestCharts', [key], {});\n",
              "      }\n",
              "    </script>\n",
              "\n",
              "      <script>\n",
              "\n",
              "function displayQuickchartButton(domScope) {\n",
              "  let quickchartButtonEl =\n",
              "    domScope.querySelector('#df-de06180f-4c0f-4266-8c5a-ed508b1697e5 button.colab-df-quickchart');\n",
              "  quickchartButtonEl.style.display =\n",
              "    google.colab.kernel.accessAllowed ? 'block' : 'none';\n",
              "}\n",
              "\n",
              "        displayQuickchartButton(document);\n",
              "      </script>\n",
              "      <style>\n",
              "    .colab-df-container {\n",
              "      display:flex;\n",
              "      flex-wrap:wrap;\n",
              "      gap: 12px;\n",
              "    }\n",
              "\n",
              "    .colab-df-convert {\n",
              "      background-color: #E8F0FE;\n",
              "      border: none;\n",
              "      border-radius: 50%;\n",
              "      cursor: pointer;\n",
              "      display: none;\n",
              "      fill: #1967D2;\n",
              "      height: 32px;\n",
              "      padding: 0 0 0 0;\n",
              "      width: 32px;\n",
              "    }\n",
              "\n",
              "    .colab-df-convert:hover {\n",
              "      background-color: #E2EBFA;\n",
              "      box-shadow: 0px 1px 2px rgba(60, 64, 67, 0.3), 0px 1px 3px 1px rgba(60, 64, 67, 0.15);\n",
              "      fill: #174EA6;\n",
              "    }\n",
              "\n",
              "    [theme=dark] .colab-df-convert {\n",
              "      background-color: #3B4455;\n",
              "      fill: #D2E3FC;\n",
              "    }\n",
              "\n",
              "    [theme=dark] .colab-df-convert:hover {\n",
              "      background-color: #434B5C;\n",
              "      box-shadow: 0px 1px 3px 1px rgba(0, 0, 0, 0.15);\n",
              "      filter: drop-shadow(0px 1px 2px rgba(0, 0, 0, 0.3));\n",
              "      fill: #FFFFFF;\n",
              "    }\n",
              "  </style>\n",
              "\n",
              "      <script>\n",
              "        const buttonEl =\n",
              "          document.querySelector('#df-ce9eaacb-d70c-458b-9a67-d7ded0fa9f78 button.colab-df-convert');\n",
              "        buttonEl.style.display =\n",
              "          google.colab.kernel.accessAllowed ? 'block' : 'none';\n",
              "\n",
              "        async function convertToInteractive(key) {\n",
              "          const element = document.querySelector('#df-ce9eaacb-d70c-458b-9a67-d7ded0fa9f78');\n",
              "          const dataTable =\n",
              "            await google.colab.kernel.invokeFunction('convertToInteractive',\n",
              "                                                     [key], {});\n",
              "          if (!dataTable) return;\n",
              "\n",
              "          const docLinkHtml = 'Like what you see? Visit the ' +\n",
              "            '<a target=\"_blank\" href=https://colab.research.google.com/notebooks/data_table.ipynb>data table notebook</a>'\n",
              "            + ' to learn more about interactive tables.';\n",
              "          element.innerHTML = '';\n",
              "          dataTable['output_type'] = 'display_data';\n",
              "          await google.colab.output.renderOutput(dataTable, element);\n",
              "          const docLink = document.createElement('div');\n",
              "          docLink.innerHTML = docLinkHtml;\n",
              "          element.appendChild(docLink);\n",
              "        }\n",
              "      </script>\n",
              "    </div>\n",
              "  </div>\n"
            ],
            "text/plain": [
              "        Id  LotFrontage  LotArea  YearBuilt  YearRemodAdd  MasVnrArea  \\\n",
              "0        1         65.0     8450       2003          2003       196.0   \n",
              "2        3         68.0    11250       2001          2002       162.0   \n",
              "4        5         84.0    14260       2000          2000       350.0   \n",
              "6        7         75.0    10084       2004          2005       186.0   \n",
              "10      11         70.0    11200       1965          1965         0.0   \n",
              "...    ...          ...      ...        ...           ...         ...   \n",
              "1452  1453         35.0     3675       2005          2005        80.0   \n",
              "1453  1454         90.0    17217       2006          2006         0.0   \n",
              "1454  1455         62.0     7500       2004          2005         0.0   \n",
              "1455  1456         62.0     7917       1999          2000         0.0   \n",
              "1456  1457         85.0    13175       1978          1988       119.0   \n",
              "\n",
              "      BsmtFinSF1  BsmtFinSF2  BsmtUnfSF  TotalBsmtSF  ...  GarageArea  \\\n",
              "0            706           0        150          856  ...         548   \n",
              "2            486           0        434          920  ...         608   \n",
              "4            655           0        490         1145  ...         836   \n",
              "6           1369           0        317         1686  ...         636   \n",
              "10           906           0        134         1040  ...         384   \n",
              "...          ...         ...        ...          ...  ...         ...   \n",
              "1452         547           0          0          547  ...         525   \n",
              "1453           0           0       1140         1140  ...           0   \n",
              "1454         410           0        811         1221  ...         400   \n",
              "1455           0           0        953          953  ...         460   \n",
              "1456         790         163        589         1542  ...         500   \n",
              "\n",
              "      WoodDeckSF  OpenPorchSF  EnclosedPorch  3SsnPorch  ScreenPorch  \\\n",
              "0              0           61              0          0            0   \n",
              "2              0           42              0          0            0   \n",
              "4            192           84              0          0            0   \n",
              "6            255           57              0          0            0   \n",
              "10             0            0              0          0            0   \n",
              "...          ...          ...            ...        ...          ...   \n",
              "1452           0           28              0          0            0   \n",
              "1453          36           56              0          0            0   \n",
              "1454           0          113              0          0            0   \n",
              "1455           0           40              0          0            0   \n",
              "1456         349            0              0          0            0   \n",
              "\n",
              "      PoolArea  MiscVal  MoSold  YrSold  \n",
              "0            0        0       2    2008  \n",
              "2            0        0       9    2008  \n",
              "4            0        0      12    2008  \n",
              "6            0        0       8    2007  \n",
              "10           0        0       2    2008  \n",
              "...        ...      ...     ...     ...  \n",
              "1452         0        0       5    2006  \n",
              "1453         0        0       7    2006  \n",
              "1454         0        0      10    2009  \n",
              "1455         0        0       8    2007  \n",
              "1456         0        0       2    2010  \n",
              "\n",
              "[1042 rows x 34 columns]"
            ]
          },
          "execution_count": 45,
          "metadata": {},
          "output_type": "execute_result"
        }
      ],
      "source": [
        "from scipy import stats\n",
        "\n",
        "numeric_df[(np.abs(stats.zscore(numeric_df.drop(columns = 'Id'))) < 3).all(axis=1)]\n",
        "# numeric_df[np.abs(stats.zscore(numeric_df.drop(columns = 'Id'))) < 3]"
      ]
    },
    {
      "cell_type": "code",
      "execution_count": null,
      "metadata": {
        "colab": {
          "base_uri": "https://localhost:8080/"
        },
        "id": "U2sZQPZ5htLa",
        "outputId": "f9ef1b23-3b24-4017-cd9a-8a2a98463a1f"
      },
      "outputs": [
        {
          "data": {
            "text/plain": [
              "array([  0, 272, 228, 205, 176,  87, 172, 102,  37, 144,  64, 114, 202,\n",
              "       128, 156,  44,  77, 192, 140, 180, 183,  39, 184,  40, 552,  30,\n",
              "       126,  96,  60, 150, 120, 112, 252,  52, 224, 234, 244, 268, 137,\n",
              "        24, 108, 294, 177, 218, 242,  91, 160, 130, 169, 105,  34, 248,\n",
              "       236,  32,  80, 115, 291, 116, 158, 210,  36, 200,  84, 148, 136,\n",
              "       240,  54, 100, 189, 293, 164, 216, 239,  67,  90,  56, 129,  98,\n",
              "       143,  70, 386, 154, 185, 134, 196, 264, 275, 230, 254,  68, 194,\n",
              "       318,  48,  94, 138, 226, 174,  19, 170, 220, 214, 280, 190, 330,\n",
              "       208, 145, 259,  81,  42, 123, 162, 286, 168,  20, 301, 198, 221,\n",
              "       212,  50,  99])"
            ]
          },
          "execution_count": 43,
          "metadata": {},
          "output_type": "execute_result"
        }
      ],
      "source": [
        "numeric_df['EnclosedPorch'].unique()"
      ]
    },
    {
      "cell_type": "code",
      "execution_count": null,
      "metadata": {
        "colab": {
          "base_uri": "https://localhost:8080/"
        },
        "id": "7fAsHbrQhjdn",
        "outputId": "7139c6f5-6c52-431c-d34b-650667c978ef"
      },
      "outputs": [
        {
          "data": {
            "text/plain": [
              "0      NaN\n",
              "1      NaN\n",
              "2      NaN\n",
              "3      NaN\n",
              "4      NaN\n",
              "        ..\n",
              "1455   NaN\n",
              "1456   NaN\n",
              "1457   NaN\n",
              "1458   NaN\n",
              "1459   NaN\n",
              "Name: LotFrontage, Length: 1460, dtype: float64"
            ]
          },
          "execution_count": 27,
          "metadata": {},
          "output_type": "execute_result"
        }
      ],
      "source": [
        "stats.zscore(numeric_df['LotFrontage'])"
      ]
    },
    {
      "cell_type": "code",
      "execution_count": null,
      "metadata": {
        "colab": {
          "base_uri": "https://localhost:8080/"
        },
        "id": "FC3OZhYKgzon",
        "outputId": "3db739a4-edb1-46b8-eee7-384fdaeafed3"
      },
      "outputs": [
        {
          "data": {
            "text/plain": [
              "count    1460.000000\n",
              "mean       21.954110\n",
              "std        61.119149\n",
              "min         0.000000\n",
              "25%         0.000000\n",
              "50%         0.000000\n",
              "75%         0.000000\n",
              "max       552.000000\n",
              "Name: EnclosedPorch, dtype: float64"
            ]
          },
          "execution_count": 44,
          "metadata": {},
          "output_type": "execute_result"
        }
      ],
      "source": [
        "numeric_df['EnclosedPorch'].describe()"
      ]
    },
    {
      "cell_type": "markdown",
      "metadata": {
        "id": "C6gxkGCzucqC"
      },
      "source": [
        "**Standardize the data**"
      ]
    },
    {
      "cell_type": "code",
      "execution_count": null,
      "metadata": {
        "colab": {
          "base_uri": "https://localhost:8080/"
        },
        "id": "y1NhW8FZuZsP",
        "outputId": "ed17ac2b-b5f2-4165-9503-3a6ff0384ee4"
      },
      "outputs": [
        {
          "name": "stdout",
          "output_type": "stream",
          "text": [
            "['LotFrontage', 'LotArea', 'YearBuilt', 'YearRemodAdd', 'MasVnrArea', 'BsmtFinSF1', 'BsmtFinSF2', 'BsmtUnfSF', 'TotalBsmtSF', '1stFlrSF', '2ndFlrSF', 'LowQualFinSF', 'GrLivArea', 'BsmtFullBath', 'BsmtHalfBath', 'FullBath', 'HalfBath', 'BedroomAbvGr', 'KitchenAbvGr', 'TotRmsAbvGrd', 'Fireplaces', 'GarageYrBlt', 'GarageCars', 'GarageArea', 'WoodDeckSF', 'OpenPorchSF', 'EnclosedPorch', '3SsnPorch', 'ScreenPorch', 'PoolArea', 'MiscVal', 'MoSold', 'YrSold']\n"
          ]
        }
      ],
      "source": [
        "# How to 'hide' specific columns from standardization (first answer): https://stackoverflow.com/questions/24645153/pandas-dataframe-columns-scaling-with-sklearn\n",
        "from sklearn.preprocessing import StandardScaler\n",
        "\n",
        "standard_transformer_columns = [col for col in numeric_df.columns if col != 'Id']\n",
        "print(standard_transformer_columns)"
      ]
    },
    {
      "cell_type": "code",
      "execution_count": null,
      "metadata": {
        "id": "BlkY3Frj1WqC"
      },
      "outputs": [],
      "source": [
        "# scaler = StandardScaler().fit(numeric_df.drop(columns = ['Id']))\n",
        "scaler = StandardScaler()"
      ]
    },
    {
      "cell_type": "code",
      "execution_count": null,
      "metadata": {
        "id": "jyzScwD63zM5"
      },
      "outputs": [],
      "source": [
        "numeric_df[standard_transformer_columns] = scaler.fit_transform(numeric_df[standard_transformer_columns])"
      ]
    },
    {
      "cell_type": "code",
      "execution_count": null,
      "metadata": {
        "colab": {
          "base_uri": "https://localhost:8080/",
          "height": 236
        },
        "id": "EhrIufIfw1GW",
        "outputId": "8d80c725-ffb6-488d-ba4d-e6d4ef2396d0"
      },
      "outputs": [
        {
          "data": {
            "text/html": [
              "\n",
              "\n",
              "  <div id=\"df-1bb07d58-88e4-481c-903f-c7444db25d36\">\n",
              "    <div class=\"colab-df-container\">\n",
              "      <div>\n",
              "<style scoped>\n",
              "    .dataframe tbody tr th:only-of-type {\n",
              "        vertical-align: middle;\n",
              "    }\n",
              "\n",
              "    .dataframe tbody tr th {\n",
              "        vertical-align: top;\n",
              "    }\n",
              "\n",
              "    .dataframe thead th {\n",
              "        text-align: right;\n",
              "    }\n",
              "</style>\n",
              "<table border=\"1\" class=\"dataframe\">\n",
              "  <thead>\n",
              "    <tr style=\"text-align: right;\">\n",
              "      <th></th>\n",
              "      <th>Id</th>\n",
              "      <th>LotFrontage</th>\n",
              "      <th>LotArea</th>\n",
              "      <th>YearBuilt</th>\n",
              "      <th>YearRemodAdd</th>\n",
              "      <th>MasVnrArea</th>\n",
              "      <th>BsmtFinSF1</th>\n",
              "      <th>BsmtFinSF2</th>\n",
              "      <th>BsmtUnfSF</th>\n",
              "      <th>TotalBsmtSF</th>\n",
              "      <th>...</th>\n",
              "      <th>GarageArea</th>\n",
              "      <th>WoodDeckSF</th>\n",
              "      <th>OpenPorchSF</th>\n",
              "      <th>EnclosedPorch</th>\n",
              "      <th>3SsnPorch</th>\n",
              "      <th>ScreenPorch</th>\n",
              "      <th>PoolArea</th>\n",
              "      <th>MiscVal</th>\n",
              "      <th>MoSold</th>\n",
              "      <th>YrSold</th>\n",
              "    </tr>\n",
              "  </thead>\n",
              "  <tbody>\n",
              "    <tr>\n",
              "      <th>0</th>\n",
              "      <td>1</td>\n",
              "      <td>-0.208034</td>\n",
              "      <td>-0.207142</td>\n",
              "      <td>1.050994</td>\n",
              "      <td>0.878668</td>\n",
              "      <td>0.510015</td>\n",
              "      <td>0.575425</td>\n",
              "      <td>-0.288653</td>\n",
              "      <td>-0.944591</td>\n",
              "      <td>-0.459303</td>\n",
              "      <td>...</td>\n",
              "      <td>0.351000</td>\n",
              "      <td>-0.752176</td>\n",
              "      <td>0.216503</td>\n",
              "      <td>-0.359325</td>\n",
              "      <td>-0.116339</td>\n",
              "      <td>-0.270208</td>\n",
              "      <td>-0.068692</td>\n",
              "      <td>-0.087688</td>\n",
              "      <td>-1.599111</td>\n",
              "      <td>0.138777</td>\n",
              "    </tr>\n",
              "    <tr>\n",
              "      <th>1</th>\n",
              "      <td>2</td>\n",
              "      <td>0.409895</td>\n",
              "      <td>-0.091886</td>\n",
              "      <td>0.156734</td>\n",
              "      <td>-0.429577</td>\n",
              "      <td>-0.572835</td>\n",
              "      <td>1.171992</td>\n",
              "      <td>-0.288653</td>\n",
              "      <td>-0.641228</td>\n",
              "      <td>0.466465</td>\n",
              "      <td>...</td>\n",
              "      <td>-0.060731</td>\n",
              "      <td>1.626195</td>\n",
              "      <td>-0.704483</td>\n",
              "      <td>-0.359325</td>\n",
              "      <td>-0.116339</td>\n",
              "      <td>-0.270208</td>\n",
              "      <td>-0.068692</td>\n",
              "      <td>-0.087688</td>\n",
              "      <td>-0.489110</td>\n",
              "      <td>-0.614439</td>\n",
              "    </tr>\n",
              "    <tr>\n",
              "      <th>2</th>\n",
              "      <td>3</td>\n",
              "      <td>-0.084449</td>\n",
              "      <td>0.073480</td>\n",
              "      <td>0.984752</td>\n",
              "      <td>0.830215</td>\n",
              "      <td>0.322174</td>\n",
              "      <td>0.092907</td>\n",
              "      <td>-0.288653</td>\n",
              "      <td>-0.301643</td>\n",
              "      <td>-0.313369</td>\n",
              "      <td>...</td>\n",
              "      <td>0.631726</td>\n",
              "      <td>-0.752176</td>\n",
              "      <td>-0.070361</td>\n",
              "      <td>-0.359325</td>\n",
              "      <td>-0.116339</td>\n",
              "      <td>-0.270208</td>\n",
              "      <td>-0.068692</td>\n",
              "      <td>-0.087688</td>\n",
              "      <td>0.990891</td>\n",
              "      <td>0.138777</td>\n",
              "    </tr>\n",
              "    <tr>\n",
              "      <th>3</th>\n",
              "      <td>4</td>\n",
              "      <td>-0.414011</td>\n",
              "      <td>-0.096897</td>\n",
              "      <td>-1.863632</td>\n",
              "      <td>-0.720298</td>\n",
              "      <td>-0.572835</td>\n",
              "      <td>-0.499274</td>\n",
              "      <td>-0.288653</td>\n",
              "      <td>-0.061670</td>\n",
              "      <td>-0.687324</td>\n",
              "      <td>...</td>\n",
              "      <td>0.790804</td>\n",
              "      <td>-0.752176</td>\n",
              "      <td>-0.176048</td>\n",
              "      <td>4.092524</td>\n",
              "      <td>-0.116339</td>\n",
              "      <td>-0.270208</td>\n",
              "      <td>-0.068692</td>\n",
              "      <td>-0.087688</td>\n",
              "      <td>-1.599111</td>\n",
              "      <td>-1.367655</td>\n",
              "    </tr>\n",
              "    <tr>\n",
              "      <th>4</th>\n",
              "      <td>5</td>\n",
              "      <td>0.574676</td>\n",
              "      <td>0.375148</td>\n",
              "      <td>0.951632</td>\n",
              "      <td>0.733308</td>\n",
              "      <td>1.360826</td>\n",
              "      <td>0.463568</td>\n",
              "      <td>-0.288653</td>\n",
              "      <td>-0.174865</td>\n",
              "      <td>0.199680</td>\n",
              "      <td>...</td>\n",
              "      <td>1.698485</td>\n",
              "      <td>0.780197</td>\n",
              "      <td>0.563760</td>\n",
              "      <td>-0.359325</td>\n",
              "      <td>-0.116339</td>\n",
              "      <td>-0.270208</td>\n",
              "      <td>-0.068692</td>\n",
              "      <td>-0.087688</td>\n",
              "      <td>2.100892</td>\n",
              "      <td>0.138777</td>\n",
              "    </tr>\n",
              "  </tbody>\n",
              "</table>\n",
              "<p>5 rows × 34 columns</p>\n",
              "</div>\n",
              "      <button class=\"colab-df-convert\" onclick=\"convertToInteractive('df-1bb07d58-88e4-481c-903f-c7444db25d36')\"\n",
              "              title=\"Convert this dataframe to an interactive table.\"\n",
              "              style=\"display:none;\">\n",
              "\n",
              "  <svg xmlns=\"http://www.w3.org/2000/svg\" height=\"24px\"viewBox=\"0 0 24 24\"\n",
              "       width=\"24px\">\n",
              "    <path d=\"M0 0h24v24H0V0z\" fill=\"none\"/>\n",
              "    <path d=\"M18.56 5.44l.94 2.06.94-2.06 2.06-.94-2.06-.94-.94-2.06-.94 2.06-2.06.94zm-11 1L8.5 8.5l.94-2.06 2.06-.94-2.06-.94L8.5 2.5l-.94 2.06-2.06.94zm10 10l.94 2.06.94-2.06 2.06-.94-2.06-.94-.94-2.06-.94 2.06-2.06.94z\"/><path d=\"M17.41 7.96l-1.37-1.37c-.4-.4-.92-.59-1.43-.59-.52 0-1.04.2-1.43.59L10.3 9.45l-7.72 7.72c-.78.78-.78 2.05 0 2.83L4 21.41c.39.39.9.59 1.41.59.51 0 1.02-.2 1.41-.59l7.78-7.78 2.81-2.81c.8-.78.8-2.07 0-2.86zM5.41 20L4 18.59l7.72-7.72 1.47 1.35L5.41 20z\"/>\n",
              "  </svg>\n",
              "      </button>\n",
              "\n",
              "\n",
              "\n",
              "    <div id=\"df-80d92b5d-7a89-49c4-9348-202cf05f8706\">\n",
              "      <button class=\"colab-df-quickchart\" onclick=\"quickchart('df-80d92b5d-7a89-49c4-9348-202cf05f8706')\"\n",
              "              title=\"Suggest charts.\"\n",
              "              style=\"display:none;\">\n",
              "\n",
              "<svg xmlns=\"http://www.w3.org/2000/svg\" height=\"24px\"viewBox=\"0 0 24 24\"\n",
              "     width=\"24px\">\n",
              "    <g>\n",
              "        <path d=\"M19 3H5c-1.1 0-2 .9-2 2v14c0 1.1.9 2 2 2h14c1.1 0 2-.9 2-2V5c0-1.1-.9-2-2-2zM9 17H7v-7h2v7zm4 0h-2V7h2v10zm4 0h-2v-4h2v4z\"/>\n",
              "    </g>\n",
              "</svg>\n",
              "      </button>\n",
              "    </div>\n",
              "\n",
              "<style>\n",
              "  .colab-df-quickchart {\n",
              "    background-color: #E8F0FE;\n",
              "    border: none;\n",
              "    border-radius: 50%;\n",
              "    cursor: pointer;\n",
              "    display: none;\n",
              "    fill: #1967D2;\n",
              "    height: 32px;\n",
              "    padding: 0 0 0 0;\n",
              "    width: 32px;\n",
              "  }\n",
              "\n",
              "  .colab-df-quickchart:hover {\n",
              "    background-color: #E2EBFA;\n",
              "    box-shadow: 0px 1px 2px rgba(60, 64, 67, 0.3), 0px 1px 3px 1px rgba(60, 64, 67, 0.15);\n",
              "    fill: #174EA6;\n",
              "  }\n",
              "\n",
              "  [theme=dark] .colab-df-quickchart {\n",
              "    background-color: #3B4455;\n",
              "    fill: #D2E3FC;\n",
              "  }\n",
              "\n",
              "  [theme=dark] .colab-df-quickchart:hover {\n",
              "    background-color: #434B5C;\n",
              "    box-shadow: 0px 1px 3px 1px rgba(0, 0, 0, 0.15);\n",
              "    filter: drop-shadow(0px 1px 2px rgba(0, 0, 0, 0.3));\n",
              "    fill: #FFFFFF;\n",
              "  }\n",
              "</style>\n",
              "\n",
              "    <script>\n",
              "      async function quickchart(key) {\n",
              "        const containerElement = document.querySelector('#' + key);\n",
              "        const charts = await google.colab.kernel.invokeFunction(\n",
              "            'suggestCharts', [key], {});\n",
              "      }\n",
              "    </script>\n",
              "\n",
              "      <script>\n",
              "\n",
              "function displayQuickchartButton(domScope) {\n",
              "  let quickchartButtonEl =\n",
              "    domScope.querySelector('#df-80d92b5d-7a89-49c4-9348-202cf05f8706 button.colab-df-quickchart');\n",
              "  quickchartButtonEl.style.display =\n",
              "    google.colab.kernel.accessAllowed ? 'block' : 'none';\n",
              "}\n",
              "\n",
              "        displayQuickchartButton(document);\n",
              "      </script>\n",
              "      <style>\n",
              "    .colab-df-container {\n",
              "      display:flex;\n",
              "      flex-wrap:wrap;\n",
              "      gap: 12px;\n",
              "    }\n",
              "\n",
              "    .colab-df-convert {\n",
              "      background-color: #E8F0FE;\n",
              "      border: none;\n",
              "      border-radius: 50%;\n",
              "      cursor: pointer;\n",
              "      display: none;\n",
              "      fill: #1967D2;\n",
              "      height: 32px;\n",
              "      padding: 0 0 0 0;\n",
              "      width: 32px;\n",
              "    }\n",
              "\n",
              "    .colab-df-convert:hover {\n",
              "      background-color: #E2EBFA;\n",
              "      box-shadow: 0px 1px 2px rgba(60, 64, 67, 0.3), 0px 1px 3px 1px rgba(60, 64, 67, 0.15);\n",
              "      fill: #174EA6;\n",
              "    }\n",
              "\n",
              "    [theme=dark] .colab-df-convert {\n",
              "      background-color: #3B4455;\n",
              "      fill: #D2E3FC;\n",
              "    }\n",
              "\n",
              "    [theme=dark] .colab-df-convert:hover {\n",
              "      background-color: #434B5C;\n",
              "      box-shadow: 0px 1px 3px 1px rgba(0, 0, 0, 0.15);\n",
              "      filter: drop-shadow(0px 1px 2px rgba(0, 0, 0, 0.3));\n",
              "      fill: #FFFFFF;\n",
              "    }\n",
              "  </style>\n",
              "\n",
              "      <script>\n",
              "        const buttonEl =\n",
              "          document.querySelector('#df-1bb07d58-88e4-481c-903f-c7444db25d36 button.colab-df-convert');\n",
              "        buttonEl.style.display =\n",
              "          google.colab.kernel.accessAllowed ? 'block' : 'none';\n",
              "\n",
              "        async function convertToInteractive(key) {\n",
              "          const element = document.querySelector('#df-1bb07d58-88e4-481c-903f-c7444db25d36');\n",
              "          const dataTable =\n",
              "            await google.colab.kernel.invokeFunction('convertToInteractive',\n",
              "                                                     [key], {});\n",
              "          if (!dataTable) return;\n",
              "\n",
              "          const docLinkHtml = 'Like what you see? Visit the ' +\n",
              "            '<a target=\"_blank\" href=https://colab.research.google.com/notebooks/data_table.ipynb>data table notebook</a>'\n",
              "            + ' to learn more about interactive tables.';\n",
              "          element.innerHTML = '';\n",
              "          dataTable['output_type'] = 'display_data';\n",
              "          await google.colab.output.renderOutput(dataTable, element);\n",
              "          const docLink = document.createElement('div');\n",
              "          docLink.innerHTML = docLinkHtml;\n",
              "          element.appendChild(docLink);\n",
              "        }\n",
              "      </script>\n",
              "    </div>\n",
              "  </div>\n"
            ],
            "text/plain": [
              "   Id  LotFrontage   LotArea  YearBuilt  YearRemodAdd  MasVnrArea  BsmtFinSF1  \\\n",
              "0   1    -0.208034 -0.207142   1.050994      0.878668    0.510015    0.575425   \n",
              "1   2     0.409895 -0.091886   0.156734     -0.429577   -0.572835    1.171992   \n",
              "2   3    -0.084449  0.073480   0.984752      0.830215    0.322174    0.092907   \n",
              "3   4    -0.414011 -0.096897  -1.863632     -0.720298   -0.572835   -0.499274   \n",
              "4   5     0.574676  0.375148   0.951632      0.733308    1.360826    0.463568   \n",
              "\n",
              "   BsmtFinSF2  BsmtUnfSF  TotalBsmtSF  ...  GarageArea  WoodDeckSF  \\\n",
              "0   -0.288653  -0.944591    -0.459303  ...    0.351000   -0.752176   \n",
              "1   -0.288653  -0.641228     0.466465  ...   -0.060731    1.626195   \n",
              "2   -0.288653  -0.301643    -0.313369  ...    0.631726   -0.752176   \n",
              "3   -0.288653  -0.061670    -0.687324  ...    0.790804   -0.752176   \n",
              "4   -0.288653  -0.174865     0.199680  ...    1.698485    0.780197   \n",
              "\n",
              "   OpenPorchSF  EnclosedPorch  3SsnPorch  ScreenPorch  PoolArea   MiscVal  \\\n",
              "0     0.216503      -0.359325  -0.116339    -0.270208 -0.068692 -0.087688   \n",
              "1    -0.704483      -0.359325  -0.116339    -0.270208 -0.068692 -0.087688   \n",
              "2    -0.070361      -0.359325  -0.116339    -0.270208 -0.068692 -0.087688   \n",
              "3    -0.176048       4.092524  -0.116339    -0.270208 -0.068692 -0.087688   \n",
              "4     0.563760      -0.359325  -0.116339    -0.270208 -0.068692 -0.087688   \n",
              "\n",
              "     MoSold    YrSold  \n",
              "0 -1.599111  0.138777  \n",
              "1 -0.489110 -0.614439  \n",
              "2  0.990891  0.138777  \n",
              "3 -1.599111 -1.367655  \n",
              "4  2.100892  0.138777  \n",
              "\n",
              "[5 rows x 34 columns]"
            ]
          },
          "execution_count": 8,
          "metadata": {},
          "output_type": "execute_result"
        }
      ],
      "source": [
        "# scaler.mean_\n",
        "numeric_df.head()"
      ]
    },
    {
      "cell_type": "code",
      "execution_count": null,
      "metadata": {
        "colab": {
          "base_uri": "https://localhost:8080/"
        },
        "id": "yOu1-LFo3jLv",
        "outputId": "cf8f021c-4c22-4f0e-c340-deb871abb6c5"
      },
      "outputs": [
        {
          "name": "stdout",
          "output_type": "stream",
          "text": [
            "MSZoning, Street, Alley, LotShape, LandContour, Utilities, LotConfig, LandSlope, Neighborhood, Condition1, Condition2, BldgType, HouseStyle, RoofStyle, RoofMatl, Exterior1st, Exterior2nd, MasVnrType, ExterQual, ExterCond, Foundation, BsmtQual, BsmtCond, BsmtExposure, BsmtFinType1, BsmtFinType2, Heating, HeatingQC, CentralAir, Electrical, KitchenQual, Functional, FireplaceQu, GarageType, GarageFinish, GarageQual, GarageCond, PavedDrive, PoolQC, Fence, MiscFeature, SaleType, SaleCondition, MSSubClass, OverallQual, OverallCond"
          ]
        }
      ],
      "source": [
        "print(f\"{non_numeric_columns[0]}\", end = \"\")\n",
        "for column in non_numeric_columns[1:]:\n",
        "  print(f\", {column}\", end = \"\")"
      ]
    },
    {
      "cell_type": "markdown",
      "metadata": {
        "id": "7fRkdYPw3D11"
      },
      "source": [
        "# One-hot encoding"
      ]
    },
    {
      "cell_type": "code",
      "execution_count": null,
      "metadata": {
        "id": "Mwj4KzCgCk3N"
      },
      "outputs": [],
      "source": [
        "# ONE-HOT ENCODE\n",
        "# https://stackabuse.com/one-hot-encoding-in-python-with-pandas-and-scikit-learn/\n",
        "def one_hot(df, col, pre):\n",
        "  encoded = pd.get_dummies(df[col], prefix=pre)\n",
        "  for column in encoded:\n",
        "    encoded = encoded.rename(columns={column: col + \"_\" + column})\n",
        "  encoded['Id'] = df['Id']\n",
        "  return encoded"
      ]
    },
    {
      "cell_type": "code",
      "execution_count": null,
      "metadata": {
        "id": "cQXtbX6wAyAz"
      },
      "outputs": [],
      "source": [
        "for col in non_numeric_columns:\n",
        "  encoded = one_hot(train_data, col, 'is')\n",
        "  numeric_df = pd.merge(numeric_df, encoded, on='Id', how='left')"
      ]
    },
    {
      "cell_type": "code",
      "execution_count": null,
      "metadata": {
        "id": "MVrmXSyzIRLg"
      },
      "outputs": [],
      "source": [
        "null_cols = numeric_df.columns[numeric_df.isna().any()].tolist()"
      ]
    },
    {
      "cell_type": "code",
      "execution_count": null,
      "metadata": {
        "id": "8V_qB-AEzOTR"
      },
      "outputs": [],
      "source": [
        "# impute NULL values with mean (LotFrontage, MasVnrArea, GarageYrBlt)\n",
        "for col in null_cols:\n",
        "  mean = numeric_df[col].mean()\n",
        "  numeric_df[col].fillna(value = mean, inplace = True)"
      ]
    },
    {
      "cell_type": "code",
      "execution_count": null,
      "metadata": {
        "colab": {
          "base_uri": "https://localhost:8080/",
          "height": 300
        },
        "id": "QYm8a9NHv8a0",
        "outputId": "041ded73-88b4-4105-f26e-59145b228a85"
      },
      "outputs": [
        {
          "data": {
            "text/html": [
              "\n",
              "\n",
              "  <div id=\"df-c5b3f086-c509-4aa1-ae09-a594714a9a23\">\n",
              "    <div class=\"colab-df-container\">\n",
              "      <div>\n",
              "<style scoped>\n",
              "    .dataframe tbody tr th:only-of-type {\n",
              "        vertical-align: middle;\n",
              "    }\n",
              "\n",
              "    .dataframe tbody tr th {\n",
              "        vertical-align: top;\n",
              "    }\n",
              "\n",
              "    .dataframe thead th {\n",
              "        text-align: right;\n",
              "    }\n",
              "</style>\n",
              "<table border=\"1\" class=\"dataframe\">\n",
              "  <thead>\n",
              "    <tr style=\"text-align: right;\">\n",
              "      <th></th>\n",
              "      <th>Id</th>\n",
              "      <th>LotFrontage</th>\n",
              "      <th>LotArea</th>\n",
              "      <th>YearBuilt</th>\n",
              "      <th>YearRemodAdd</th>\n",
              "      <th>MasVnrArea</th>\n",
              "      <th>BsmtFinSF1</th>\n",
              "      <th>BsmtFinSF2</th>\n",
              "      <th>BsmtUnfSF</th>\n",
              "      <th>TotalBsmtSF</th>\n",
              "      <th>...</th>\n",
              "      <th>OverallQual_is_10</th>\n",
              "      <th>OverallCond_is_1</th>\n",
              "      <th>OverallCond_is_2</th>\n",
              "      <th>OverallCond_is_3</th>\n",
              "      <th>OverallCond_is_4</th>\n",
              "      <th>OverallCond_is_5</th>\n",
              "      <th>OverallCond_is_6</th>\n",
              "      <th>OverallCond_is_7</th>\n",
              "      <th>OverallCond_is_8</th>\n",
              "      <th>OverallCond_is_9</th>\n",
              "    </tr>\n",
              "  </thead>\n",
              "  <tbody>\n",
              "    <tr>\n",
              "      <th>0</th>\n",
              "      <td>1</td>\n",
              "      <td>-0.208034</td>\n",
              "      <td>-0.207142</td>\n",
              "      <td>1.050994</td>\n",
              "      <td>0.878668</td>\n",
              "      <td>0.510015</td>\n",
              "      <td>0.575425</td>\n",
              "      <td>-0.288653</td>\n",
              "      <td>-0.944591</td>\n",
              "      <td>-0.459303</td>\n",
              "      <td>...</td>\n",
              "      <td>0</td>\n",
              "      <td>0</td>\n",
              "      <td>0</td>\n",
              "      <td>0</td>\n",
              "      <td>0</td>\n",
              "      <td>1</td>\n",
              "      <td>0</td>\n",
              "      <td>0</td>\n",
              "      <td>0</td>\n",
              "      <td>0</td>\n",
              "    </tr>\n",
              "    <tr>\n",
              "      <th>1</th>\n",
              "      <td>2</td>\n",
              "      <td>0.409895</td>\n",
              "      <td>-0.091886</td>\n",
              "      <td>0.156734</td>\n",
              "      <td>-0.429577</td>\n",
              "      <td>-0.572835</td>\n",
              "      <td>1.171992</td>\n",
              "      <td>-0.288653</td>\n",
              "      <td>-0.641228</td>\n",
              "      <td>0.466465</td>\n",
              "      <td>...</td>\n",
              "      <td>0</td>\n",
              "      <td>0</td>\n",
              "      <td>0</td>\n",
              "      <td>0</td>\n",
              "      <td>0</td>\n",
              "      <td>0</td>\n",
              "      <td>0</td>\n",
              "      <td>0</td>\n",
              "      <td>1</td>\n",
              "      <td>0</td>\n",
              "    </tr>\n",
              "    <tr>\n",
              "      <th>2</th>\n",
              "      <td>3</td>\n",
              "      <td>-0.084449</td>\n",
              "      <td>0.073480</td>\n",
              "      <td>0.984752</td>\n",
              "      <td>0.830215</td>\n",
              "      <td>0.322174</td>\n",
              "      <td>0.092907</td>\n",
              "      <td>-0.288653</td>\n",
              "      <td>-0.301643</td>\n",
              "      <td>-0.313369</td>\n",
              "      <td>...</td>\n",
              "      <td>0</td>\n",
              "      <td>0</td>\n",
              "      <td>0</td>\n",
              "      <td>0</td>\n",
              "      <td>0</td>\n",
              "      <td>1</td>\n",
              "      <td>0</td>\n",
              "      <td>0</td>\n",
              "      <td>0</td>\n",
              "      <td>0</td>\n",
              "    </tr>\n",
              "    <tr>\n",
              "      <th>3</th>\n",
              "      <td>4</td>\n",
              "      <td>-0.414011</td>\n",
              "      <td>-0.096897</td>\n",
              "      <td>-1.863632</td>\n",
              "      <td>-0.720298</td>\n",
              "      <td>-0.572835</td>\n",
              "      <td>-0.499274</td>\n",
              "      <td>-0.288653</td>\n",
              "      <td>-0.061670</td>\n",
              "      <td>-0.687324</td>\n",
              "      <td>...</td>\n",
              "      <td>0</td>\n",
              "      <td>0</td>\n",
              "      <td>0</td>\n",
              "      <td>0</td>\n",
              "      <td>0</td>\n",
              "      <td>1</td>\n",
              "      <td>0</td>\n",
              "      <td>0</td>\n",
              "      <td>0</td>\n",
              "      <td>0</td>\n",
              "    </tr>\n",
              "    <tr>\n",
              "      <th>4</th>\n",
              "      <td>5</td>\n",
              "      <td>0.574676</td>\n",
              "      <td>0.375148</td>\n",
              "      <td>0.951632</td>\n",
              "      <td>0.733308</td>\n",
              "      <td>1.360826</td>\n",
              "      <td>0.463568</td>\n",
              "      <td>-0.288653</td>\n",
              "      <td>-0.174865</td>\n",
              "      <td>0.199680</td>\n",
              "      <td>...</td>\n",
              "      <td>0</td>\n",
              "      <td>0</td>\n",
              "      <td>0</td>\n",
              "      <td>0</td>\n",
              "      <td>0</td>\n",
              "      <td>1</td>\n",
              "      <td>0</td>\n",
              "      <td>0</td>\n",
              "      <td>0</td>\n",
              "      <td>0</td>\n",
              "    </tr>\n",
              "  </tbody>\n",
              "</table>\n",
              "<p>5 rows × 320 columns</p>\n",
              "</div>\n",
              "      <button class=\"colab-df-convert\" onclick=\"convertToInteractive('df-c5b3f086-c509-4aa1-ae09-a594714a9a23')\"\n",
              "              title=\"Convert this dataframe to an interactive table.\"\n",
              "              style=\"display:none;\">\n",
              "\n",
              "  <svg xmlns=\"http://www.w3.org/2000/svg\" height=\"24px\"viewBox=\"0 0 24 24\"\n",
              "       width=\"24px\">\n",
              "    <path d=\"M0 0h24v24H0V0z\" fill=\"none\"/>\n",
              "    <path d=\"M18.56 5.44l.94 2.06.94-2.06 2.06-.94-2.06-.94-.94-2.06-.94 2.06-2.06.94zm-11 1L8.5 8.5l.94-2.06 2.06-.94-2.06-.94L8.5 2.5l-.94 2.06-2.06.94zm10 10l.94 2.06.94-2.06 2.06-.94-2.06-.94-.94-2.06-.94 2.06-2.06.94z\"/><path d=\"M17.41 7.96l-1.37-1.37c-.4-.4-.92-.59-1.43-.59-.52 0-1.04.2-1.43.59L10.3 9.45l-7.72 7.72c-.78.78-.78 2.05 0 2.83L4 21.41c.39.39.9.59 1.41.59.51 0 1.02-.2 1.41-.59l7.78-7.78 2.81-2.81c.8-.78.8-2.07 0-2.86zM5.41 20L4 18.59l7.72-7.72 1.47 1.35L5.41 20z\"/>\n",
              "  </svg>\n",
              "      </button>\n",
              "\n",
              "\n",
              "\n",
              "    <div id=\"df-22224724-fc7c-4550-825e-03474d3f0be9\">\n",
              "      <button class=\"colab-df-quickchart\" onclick=\"quickchart('df-22224724-fc7c-4550-825e-03474d3f0be9')\"\n",
              "              title=\"Suggest charts.\"\n",
              "              style=\"display:none;\">\n",
              "\n",
              "<svg xmlns=\"http://www.w3.org/2000/svg\" height=\"24px\"viewBox=\"0 0 24 24\"\n",
              "     width=\"24px\">\n",
              "    <g>\n",
              "        <path d=\"M19 3H5c-1.1 0-2 .9-2 2v14c0 1.1.9 2 2 2h14c1.1 0 2-.9 2-2V5c0-1.1-.9-2-2-2zM9 17H7v-7h2v7zm4 0h-2V7h2v10zm4 0h-2v-4h2v4z\"/>\n",
              "    </g>\n",
              "</svg>\n",
              "      </button>\n",
              "    </div>\n",
              "\n",
              "<style>\n",
              "  .colab-df-quickchart {\n",
              "    background-color: #E8F0FE;\n",
              "    border: none;\n",
              "    border-radius: 50%;\n",
              "    cursor: pointer;\n",
              "    display: none;\n",
              "    fill: #1967D2;\n",
              "    height: 32px;\n",
              "    padding: 0 0 0 0;\n",
              "    width: 32px;\n",
              "  }\n",
              "\n",
              "  .colab-df-quickchart:hover {\n",
              "    background-color: #E2EBFA;\n",
              "    box-shadow: 0px 1px 2px rgba(60, 64, 67, 0.3), 0px 1px 3px 1px rgba(60, 64, 67, 0.15);\n",
              "    fill: #174EA6;\n",
              "  }\n",
              "\n",
              "  [theme=dark] .colab-df-quickchart {\n",
              "    background-color: #3B4455;\n",
              "    fill: #D2E3FC;\n",
              "  }\n",
              "\n",
              "  [theme=dark] .colab-df-quickchart:hover {\n",
              "    background-color: #434B5C;\n",
              "    box-shadow: 0px 1px 3px 1px rgba(0, 0, 0, 0.15);\n",
              "    filter: drop-shadow(0px 1px 2px rgba(0, 0, 0, 0.3));\n",
              "    fill: #FFFFFF;\n",
              "  }\n",
              "</style>\n",
              "\n",
              "    <script>\n",
              "      async function quickchart(key) {\n",
              "        const containerElement = document.querySelector('#' + key);\n",
              "        const charts = await google.colab.kernel.invokeFunction(\n",
              "            'suggestCharts', [key], {});\n",
              "      }\n",
              "    </script>\n",
              "\n",
              "      <script>\n",
              "\n",
              "function displayQuickchartButton(domScope) {\n",
              "  let quickchartButtonEl =\n",
              "    domScope.querySelector('#df-22224724-fc7c-4550-825e-03474d3f0be9 button.colab-df-quickchart');\n",
              "  quickchartButtonEl.style.display =\n",
              "    google.colab.kernel.accessAllowed ? 'block' : 'none';\n",
              "}\n",
              "\n",
              "        displayQuickchartButton(document);\n",
              "      </script>\n",
              "      <style>\n",
              "    .colab-df-container {\n",
              "      display:flex;\n",
              "      flex-wrap:wrap;\n",
              "      gap: 12px;\n",
              "    }\n",
              "\n",
              "    .colab-df-convert {\n",
              "      background-color: #E8F0FE;\n",
              "      border: none;\n",
              "      border-radius: 50%;\n",
              "      cursor: pointer;\n",
              "      display: none;\n",
              "      fill: #1967D2;\n",
              "      height: 32px;\n",
              "      padding: 0 0 0 0;\n",
              "      width: 32px;\n",
              "    }\n",
              "\n",
              "    .colab-df-convert:hover {\n",
              "      background-color: #E2EBFA;\n",
              "      box-shadow: 0px 1px 2px rgba(60, 64, 67, 0.3), 0px 1px 3px 1px rgba(60, 64, 67, 0.15);\n",
              "      fill: #174EA6;\n",
              "    }\n",
              "\n",
              "    [theme=dark] .colab-df-convert {\n",
              "      background-color: #3B4455;\n",
              "      fill: #D2E3FC;\n",
              "    }\n",
              "\n",
              "    [theme=dark] .colab-df-convert:hover {\n",
              "      background-color: #434B5C;\n",
              "      box-shadow: 0px 1px 3px 1px rgba(0, 0, 0, 0.15);\n",
              "      filter: drop-shadow(0px 1px 2px rgba(0, 0, 0, 0.3));\n",
              "      fill: #FFFFFF;\n",
              "    }\n",
              "  </style>\n",
              "\n",
              "      <script>\n",
              "        const buttonEl =\n",
              "          document.querySelector('#df-c5b3f086-c509-4aa1-ae09-a594714a9a23 button.colab-df-convert');\n",
              "        buttonEl.style.display =\n",
              "          google.colab.kernel.accessAllowed ? 'block' : 'none';\n",
              "\n",
              "        async function convertToInteractive(key) {\n",
              "          const element = document.querySelector('#df-c5b3f086-c509-4aa1-ae09-a594714a9a23');\n",
              "          const dataTable =\n",
              "            await google.colab.kernel.invokeFunction('convertToInteractive',\n",
              "                                                     [key], {});\n",
              "          if (!dataTable) return;\n",
              "\n",
              "          const docLinkHtml = 'Like what you see? Visit the ' +\n",
              "            '<a target=\"_blank\" href=https://colab.research.google.com/notebooks/data_table.ipynb>data table notebook</a>'\n",
              "            + ' to learn more about interactive tables.';\n",
              "          element.innerHTML = '';\n",
              "          dataTable['output_type'] = 'display_data';\n",
              "          await google.colab.output.renderOutput(dataTable, element);\n",
              "          const docLink = document.createElement('div');\n",
              "          docLink.innerHTML = docLinkHtml;\n",
              "          element.appendChild(docLink);\n",
              "        }\n",
              "      </script>\n",
              "    </div>\n",
              "  </div>\n"
            ],
            "text/plain": [
              "   Id  LotFrontage   LotArea  YearBuilt  YearRemodAdd  MasVnrArea  BsmtFinSF1  \\\n",
              "0   1    -0.208034 -0.207142   1.050994      0.878668    0.510015    0.575425   \n",
              "1   2     0.409895 -0.091886   0.156734     -0.429577   -0.572835    1.171992   \n",
              "2   3    -0.084449  0.073480   0.984752      0.830215    0.322174    0.092907   \n",
              "3   4    -0.414011 -0.096897  -1.863632     -0.720298   -0.572835   -0.499274   \n",
              "4   5     0.574676  0.375148   0.951632      0.733308    1.360826    0.463568   \n",
              "\n",
              "   BsmtFinSF2  BsmtUnfSF  TotalBsmtSF  ...  OverallQual_is_10  \\\n",
              "0   -0.288653  -0.944591    -0.459303  ...                  0   \n",
              "1   -0.288653  -0.641228     0.466465  ...                  0   \n",
              "2   -0.288653  -0.301643    -0.313369  ...                  0   \n",
              "3   -0.288653  -0.061670    -0.687324  ...                  0   \n",
              "4   -0.288653  -0.174865     0.199680  ...                  0   \n",
              "\n",
              "   OverallCond_is_1  OverallCond_is_2  OverallCond_is_3  OverallCond_is_4  \\\n",
              "0                 0                 0                 0                 0   \n",
              "1                 0                 0                 0                 0   \n",
              "2                 0                 0                 0                 0   \n",
              "3                 0                 0                 0                 0   \n",
              "4                 0                 0                 0                 0   \n",
              "\n",
              "   OverallCond_is_5  OverallCond_is_6  OverallCond_is_7  OverallCond_is_8  \\\n",
              "0                 1                 0                 0                 0   \n",
              "1                 0                 0                 0                 1   \n",
              "2                 1                 0                 0                 0   \n",
              "3                 1                 0                 0                 0   \n",
              "4                 1                 0                 0                 0   \n",
              "\n",
              "   OverallCond_is_9  \n",
              "0                 0  \n",
              "1                 0  \n",
              "2                 0  \n",
              "3                 0  \n",
              "4                 0  \n",
              "\n",
              "[5 rows x 320 columns]"
            ]
          },
          "execution_count": 14,
          "metadata": {},
          "output_type": "execute_result"
        }
      ],
      "source": [
        "numeric_df.head()"
      ]
    },
    {
      "cell_type": "code",
      "execution_count": null,
      "metadata": {
        "id": "NPIAoQ8Xy-nh"
      },
      "outputs": [],
      "source": [
        "y_train = train_data[\"SalePrice\"].to_numpy()\n",
        "x_train = numeric_df.drop(columns = ['Id'])"
      ]
    },
    {
      "cell_type": "markdown",
      "metadata": {
        "id": "rxQMPiLxwY9O"
      },
      "source": [
        "# Training Model"
      ]
    },
    {
      "cell_type": "code",
      "execution_count": null,
      "metadata": {
        "colab": {
          "base_uri": "https://localhost:8080/"
        },
        "id": "9NBK_-mzt63e",
        "outputId": "3dac4b72-0bb8-4933-b8a7-318197fa3aec"
      },
      "outputs": [
        {
          "data": {
            "text/plain": [
              "319"
            ]
          },
          "execution_count": 16,
          "metadata": {},
          "output_type": "execute_result"
        }
      ],
      "source": [
        "reg = LinearRegression().fit(x_train, y_train)\n",
        "len(reg.coef_)"
      ]
    },
    {
      "cell_type": "code",
      "execution_count": null,
      "metadata": {
        "id": "J585zWRlJJGO"
      },
      "outputs": [],
      "source": [
        "coeff = pd.DataFrame(list(zip(reg.feature_names_in_, reg.coef_)), columns = ['Feature', 'Weight'])"
      ]
    },
    {
      "cell_type": "code",
      "execution_count": null,
      "metadata": {
        "colab": {
          "base_uri": "https://localhost:8080/",
          "height": 424
        },
        "id": "U8QDY8TEJjM7",
        "outputId": "ca36c3cd-3124-4a1e-af73-652ccbaa5690"
      },
      "outputs": [
        {
          "data": {
            "text/html": [
              "\n",
              "\n",
              "  <div id=\"df-1714be12-3874-40e7-9fb4-b7046b61dc7b\">\n",
              "    <div class=\"colab-df-container\">\n",
              "      <div>\n",
              "<style scoped>\n",
              "    .dataframe tbody tr th:only-of-type {\n",
              "        vertical-align: middle;\n",
              "    }\n",
              "\n",
              "    .dataframe tbody tr th {\n",
              "        vertical-align: top;\n",
              "    }\n",
              "\n",
              "    .dataframe thead th {\n",
              "        text-align: right;\n",
              "    }\n",
              "</style>\n",
              "<table border=\"1\" class=\"dataframe\">\n",
              "  <thead>\n",
              "    <tr style=\"text-align: right;\">\n",
              "      <th></th>\n",
              "      <th>Feature</th>\n",
              "      <th>Weight</th>\n",
              "    </tr>\n",
              "  </thead>\n",
              "  <tbody>\n",
              "    <tr>\n",
              "      <th>5</th>\n",
              "      <td>BsmtFinSF1</td>\n",
              "      <td>-2.810650e+16</td>\n",
              "    </tr>\n",
              "    <tr>\n",
              "      <th>7</th>\n",
              "      <td>BsmtUnfSF</td>\n",
              "      <td>-2.722953e+16</td>\n",
              "    </tr>\n",
              "    <tr>\n",
              "      <th>12</th>\n",
              "      <td>GrLivArea</td>\n",
              "      <td>-1.366895e+16</td>\n",
              "    </tr>\n",
              "    <tr>\n",
              "      <th>6</th>\n",
              "      <td>BsmtFinSF2</td>\n",
              "      <td>-9.941108e+15</td>\n",
              "    </tr>\n",
              "    <tr>\n",
              "      <th>55</th>\n",
              "      <td>LotConfig_is_FR3</td>\n",
              "      <td>-4.162474e+15</td>\n",
              "    </tr>\n",
              "    <tr>\n",
              "      <th>...</th>\n",
              "      <td>...</td>\n",
              "      <td>...</td>\n",
              "    </tr>\n",
              "    <tr>\n",
              "      <th>222</th>\n",
              "      <td>KitchenQual_is_Fa</td>\n",
              "      <td>5.464713e+15</td>\n",
              "    </tr>\n",
              "    <tr>\n",
              "      <th>221</th>\n",
              "      <td>KitchenQual_is_Ex</td>\n",
              "      <td>5.464713e+15</td>\n",
              "    </tr>\n",
              "    <tr>\n",
              "      <th>9</th>\n",
              "      <td>1stFlrSF</td>\n",
              "      <td>1.005603e+16</td>\n",
              "    </tr>\n",
              "    <tr>\n",
              "      <th>10</th>\n",
              "      <td>2ndFlrSF</td>\n",
              "      <td>1.135510e+16</td>\n",
              "    </tr>\n",
              "    <tr>\n",
              "      <th>8</th>\n",
              "      <td>TotalBsmtSF</td>\n",
              "      <td>2.703469e+16</td>\n",
              "    </tr>\n",
              "  </tbody>\n",
              "</table>\n",
              "<p>319 rows × 2 columns</p>\n",
              "</div>\n",
              "      <button class=\"colab-df-convert\" onclick=\"convertToInteractive('df-1714be12-3874-40e7-9fb4-b7046b61dc7b')\"\n",
              "              title=\"Convert this dataframe to an interactive table.\"\n",
              "              style=\"display:none;\">\n",
              "\n",
              "  <svg xmlns=\"http://www.w3.org/2000/svg\" height=\"24px\"viewBox=\"0 0 24 24\"\n",
              "       width=\"24px\">\n",
              "    <path d=\"M0 0h24v24H0V0z\" fill=\"none\"/>\n",
              "    <path d=\"M18.56 5.44l.94 2.06.94-2.06 2.06-.94-2.06-.94-.94-2.06-.94 2.06-2.06.94zm-11 1L8.5 8.5l.94-2.06 2.06-.94-2.06-.94L8.5 2.5l-.94 2.06-2.06.94zm10 10l.94 2.06.94-2.06 2.06-.94-2.06-.94-.94-2.06-.94 2.06-2.06.94z\"/><path d=\"M17.41 7.96l-1.37-1.37c-.4-.4-.92-.59-1.43-.59-.52 0-1.04.2-1.43.59L10.3 9.45l-7.72 7.72c-.78.78-.78 2.05 0 2.83L4 21.41c.39.39.9.59 1.41.59.51 0 1.02-.2 1.41-.59l7.78-7.78 2.81-2.81c.8-.78.8-2.07 0-2.86zM5.41 20L4 18.59l7.72-7.72 1.47 1.35L5.41 20z\"/>\n",
              "  </svg>\n",
              "      </button>\n",
              "\n",
              "\n",
              "\n",
              "    <div id=\"df-63b8fe79-93d7-4afd-a4df-53db4093fd04\">\n",
              "      <button class=\"colab-df-quickchart\" onclick=\"quickchart('df-63b8fe79-93d7-4afd-a4df-53db4093fd04')\"\n",
              "              title=\"Suggest charts.\"\n",
              "              style=\"display:none;\">\n",
              "\n",
              "<svg xmlns=\"http://www.w3.org/2000/svg\" height=\"24px\"viewBox=\"0 0 24 24\"\n",
              "     width=\"24px\">\n",
              "    <g>\n",
              "        <path d=\"M19 3H5c-1.1 0-2 .9-2 2v14c0 1.1.9 2 2 2h14c1.1 0 2-.9 2-2V5c0-1.1-.9-2-2-2zM9 17H7v-7h2v7zm4 0h-2V7h2v10zm4 0h-2v-4h2v4z\"/>\n",
              "    </g>\n",
              "</svg>\n",
              "      </button>\n",
              "    </div>\n",
              "\n",
              "<style>\n",
              "  .colab-df-quickchart {\n",
              "    background-color: #E8F0FE;\n",
              "    border: none;\n",
              "    border-radius: 50%;\n",
              "    cursor: pointer;\n",
              "    display: none;\n",
              "    fill: #1967D2;\n",
              "    height: 32px;\n",
              "    padding: 0 0 0 0;\n",
              "    width: 32px;\n",
              "  }\n",
              "\n",
              "  .colab-df-quickchart:hover {\n",
              "    background-color: #E2EBFA;\n",
              "    box-shadow: 0px 1px 2px rgba(60, 64, 67, 0.3), 0px 1px 3px 1px rgba(60, 64, 67, 0.15);\n",
              "    fill: #174EA6;\n",
              "  }\n",
              "\n",
              "  [theme=dark] .colab-df-quickchart {\n",
              "    background-color: #3B4455;\n",
              "    fill: #D2E3FC;\n",
              "  }\n",
              "\n",
              "  [theme=dark] .colab-df-quickchart:hover {\n",
              "    background-color: #434B5C;\n",
              "    box-shadow: 0px 1px 3px 1px rgba(0, 0, 0, 0.15);\n",
              "    filter: drop-shadow(0px 1px 2px rgba(0, 0, 0, 0.3));\n",
              "    fill: #FFFFFF;\n",
              "  }\n",
              "</style>\n",
              "\n",
              "    <script>\n",
              "      async function quickchart(key) {\n",
              "        const containerElement = document.querySelector('#' + key);\n",
              "        const charts = await google.colab.kernel.invokeFunction(\n",
              "            'suggestCharts', [key], {});\n",
              "      }\n",
              "    </script>\n",
              "\n",
              "      <script>\n",
              "\n",
              "function displayQuickchartButton(domScope) {\n",
              "  let quickchartButtonEl =\n",
              "    domScope.querySelector('#df-63b8fe79-93d7-4afd-a4df-53db4093fd04 button.colab-df-quickchart');\n",
              "  quickchartButtonEl.style.display =\n",
              "    google.colab.kernel.accessAllowed ? 'block' : 'none';\n",
              "}\n",
              "\n",
              "        displayQuickchartButton(document);\n",
              "      </script>\n",
              "      <style>\n",
              "    .colab-df-container {\n",
              "      display:flex;\n",
              "      flex-wrap:wrap;\n",
              "      gap: 12px;\n",
              "    }\n",
              "\n",
              "    .colab-df-convert {\n",
              "      background-color: #E8F0FE;\n",
              "      border: none;\n",
              "      border-radius: 50%;\n",
              "      cursor: pointer;\n",
              "      display: none;\n",
              "      fill: #1967D2;\n",
              "      height: 32px;\n",
              "      padding: 0 0 0 0;\n",
              "      width: 32px;\n",
              "    }\n",
              "\n",
              "    .colab-df-convert:hover {\n",
              "      background-color: #E2EBFA;\n",
              "      box-shadow: 0px 1px 2px rgba(60, 64, 67, 0.3), 0px 1px 3px 1px rgba(60, 64, 67, 0.15);\n",
              "      fill: #174EA6;\n",
              "    }\n",
              "\n",
              "    [theme=dark] .colab-df-convert {\n",
              "      background-color: #3B4455;\n",
              "      fill: #D2E3FC;\n",
              "    }\n",
              "\n",
              "    [theme=dark] .colab-df-convert:hover {\n",
              "      background-color: #434B5C;\n",
              "      box-shadow: 0px 1px 3px 1px rgba(0, 0, 0, 0.15);\n",
              "      filter: drop-shadow(0px 1px 2px rgba(0, 0, 0, 0.3));\n",
              "      fill: #FFFFFF;\n",
              "    }\n",
              "  </style>\n",
              "\n",
              "      <script>\n",
              "        const buttonEl =\n",
              "          document.querySelector('#df-1714be12-3874-40e7-9fb4-b7046b61dc7b button.colab-df-convert');\n",
              "        buttonEl.style.display =\n",
              "          google.colab.kernel.accessAllowed ? 'block' : 'none';\n",
              "\n",
              "        async function convertToInteractive(key) {\n",
              "          const element = document.querySelector('#df-1714be12-3874-40e7-9fb4-b7046b61dc7b');\n",
              "          const dataTable =\n",
              "            await google.colab.kernel.invokeFunction('convertToInteractive',\n",
              "                                                     [key], {});\n",
              "          if (!dataTable) return;\n",
              "\n",
              "          const docLinkHtml = 'Like what you see? Visit the ' +\n",
              "            '<a target=\"_blank\" href=https://colab.research.google.com/notebooks/data_table.ipynb>data table notebook</a>'\n",
              "            + ' to learn more about interactive tables.';\n",
              "          element.innerHTML = '';\n",
              "          dataTable['output_type'] = 'display_data';\n",
              "          await google.colab.output.renderOutput(dataTable, element);\n",
              "          const docLink = document.createElement('div');\n",
              "          docLink.innerHTML = docLinkHtml;\n",
              "          element.appendChild(docLink);\n",
              "        }\n",
              "      </script>\n",
              "    </div>\n",
              "  </div>\n"
            ],
            "text/plain": [
              "               Feature        Weight\n",
              "5           BsmtFinSF1 -2.810650e+16\n",
              "7            BsmtUnfSF -2.722953e+16\n",
              "12           GrLivArea -1.366895e+16\n",
              "6           BsmtFinSF2 -9.941108e+15\n",
              "55    LotConfig_is_FR3 -4.162474e+15\n",
              "..                 ...           ...\n",
              "222  KitchenQual_is_Fa  5.464713e+15\n",
              "221  KitchenQual_is_Ex  5.464713e+15\n",
              "9             1stFlrSF  1.005603e+16\n",
              "10            2ndFlrSF  1.135510e+16\n",
              "8          TotalBsmtSF  2.703469e+16\n",
              "\n",
              "[319 rows x 2 columns]"
            ]
          },
          "execution_count": 18,
          "metadata": {},
          "output_type": "execute_result"
        }
      ],
      "source": [
        "coeff.sort_values('Weight')"
      ]
    },
    {
      "cell_type": "markdown",
      "metadata": {
        "id": "mOJI05FjBZ03"
      },
      "source": [
        "#Feature Engineering"
      ]
    },
    {
      "cell_type": "code",
      "execution_count": null,
      "metadata": {
        "id": "EHHrEe4-n0mI"
      },
      "outputs": [],
      "source": [
        "default = ['BldgType_is_1Fam', 'BldgType_is_2fmCon', 'BldgType_is_Duplex', 'BldgType_is_Twnhs', 'BldgType_is_TwnhsE', 'FullBath', 'HalfBath', 'BedroomAbvGr']\n",
        "#'BldgType_is_1Fam', 'BldgType_is_2fmCon', 'BldgType_is_Duplex', 'BldgType_is_Twnhs', 'BldgType_is_TwnhsE', 'TotalBsmtSF', '1stFlrSF', '2ndFlrSF', 'YearBuilt',"
      ]
    },
    {
      "cell_type": "code",
      "execution_count": null,
      "metadata": {
        "id": "PLFPKb8ypGyN"
      },
      "outputs": [],
      "source": [
        "reg2 = LinearRegression().fit(x_train[default], y_train)"
      ]
    },
    {
      "cell_type": "code",
      "execution_count": null,
      "metadata": {
        "colab": {
          "base_uri": "https://localhost:8080/"
        },
        "id": "ayScw2_nqgMz",
        "outputId": "9428053f-8624-4d9a-d496-b938dd82d627"
      },
      "outputs": [
        {
          "data": {
            "text/plain": [
              "array([ 8.97390923e+17,  8.97390923e+17,  8.97390923e+17,  8.97390923e+17,\n",
              "        8.97390923e+17,  4.64640000e+04,  1.83360000e+04, -7.68000000e+03])"
            ]
          },
          "execution_count": 53,
          "metadata": {},
          "output_type": "execute_result"
        }
      ],
      "source": [
        "reg2.coef_"
      ]
    },
    {
      "cell_type": "code",
      "execution_count": null,
      "metadata": {
        "id": "oPhzSCgImBld"
      },
      "outputs": [],
      "source": [
        "numeric_df = test_data.select_dtypes(include = ['int64', 'float64'])\n",
        "numeric_df = numeric_df.select_dtypes(include = ['int64', 'float64']).drop(columns = cat_to_num)\n",
        "non_numeric_columns = test_data.columns[(test_data.dtypes != 'int64') & (test_data.dtypes != 'float64')].tolist()\n",
        "non_numeric_columns.extend(cat_to_num)\n",
        "\n",
        "numeric_df[standard_transformer_columns] = scaler.fit_transform(numeric_df[standard_transformer_columns])\n",
        "for col in non_numeric_columns:\n",
        "  encoded = one_hot(test_data, col, 'is')\n",
        "  numeric_df = pd.merge(numeric_df, encoded, on='Id', how='left')\n",
        "\n",
        "null_cols = numeric_df.columns[numeric_df.isna().any()].tolist()\n",
        "# impute NULL values with mean (LotFrontage, MasVnrArea, GarageYrBlt)\n",
        "for col in null_cols:\n",
        "  mean = numeric_df[col].mean()\n",
        "  numeric_df[col].fillna(value = mean, inplace = True)\n",
        "x_test = numeric_df.drop(columns = ['Id', 'MSSubClass_is_150'])"
      ]
    },
    {
      "cell_type": "code",
      "execution_count": null,
      "metadata": {
        "id": "9IZ6dq2QoaSq"
      },
      "outputs": [],
      "source": [
        "not_existing = x_train.columns.difference(x_test.columns)\n",
        "for col in not_existing:\n",
        "  x_test[col] = 0"
      ]
    },
    {
      "cell_type": "code",
      "execution_count": null,
      "metadata": {
        "id": "k0QD96yOo_0a"
      },
      "outputs": [],
      "source": [
        "x_test = x_test[default]"
      ]
    },
    {
      "cell_type": "code",
      "execution_count": null,
      "metadata": {
        "colab": {
          "base_uri": "https://localhost:8080/"
        },
        "id": "KqL5uoGgg7Z4",
        "outputId": "16ce1362-b3bd-41b9-8473-b985303f00d8"
      },
      "outputs": [
        {
          "name": "stdout",
          "output_type": "stream",
          "text": [
            "34331555146.126114\n",
            "-193536.1506067203\n"
          ]
        }
      ],
      "source": [
        "mse_test = mean_squared_error(test_y.iloc[:, :-1], reg2.predict(x_test))\n",
        "r2 = r2_score(test_y.iloc[:, :-1], reg2.predict(x_test))\n",
        "print(mse_test)\n",
        "print(r2)"
      ]
    },
    {
      "cell_type": "code",
      "execution_count": null,
      "metadata": {
        "id": "p1Zi56z7rrpA"
      },
      "outputs": [],
      "source": [
        "#-203873.93971206577 ['YearBuilt', 'TotalBsmtSF', '1stFlrSF', '2ndFlrSF', 'FullBath', 'HalfBath', 'BedroomAbvGr']\n",
        "#-195622.71319481815 ['YearBuilt', 'FullBath', 'HalfBath', 'BedroomAbvGr']\n",
        "#-193536.1506067203 ['BldgType_is_1Fam', 'BldgType_is_2fmCon', 'BldgType_is_Duplex', 'BldgType_is_Twnhs', 'BldgType_is_TwnhsE', 'FullBath', 'HalfBath', 'BedroomAbvGr']"
      ]
    },
    {
      "cell_type": "markdown",
      "metadata": {
        "id": "dD58dIIvwVnP"
      },
      "source": [
        ":# Testing Model"
      ]
    },
    {
      "cell_type": "markdown",
      "metadata": {
        "id": "ffhZV0x6iw0a"
      },
      "source": [
        "# Dummy Model for development\n"
      ]
    },
    {
      "cell_type": "code",
      "execution_count": null,
      "metadata": {
        "colab": {
          "base_uri": "https://localhost:8080/",
          "height": 206
        },
        "id": "5v2XpUAni1n5",
        "outputId": "9ef10622-6d65-40b1-b532-f40f69c91562"
      },
      "outputs": [
        {
          "data": {
            "text/html": [
              "\n",
              "  <div id=\"df-e0831aa1-c2c0-4666-b408-a4a3b3caf0b4\">\n",
              "    <div class=\"colab-df-container\">\n",
              "      <div>\n",
              "<style scoped>\n",
              "    .dataframe tbody tr th:only-of-type {\n",
              "        vertical-align: middle;\n",
              "    }\n",
              "\n",
              "    .dataframe tbody tr th {\n",
              "        vertical-align: top;\n",
              "    }\n",
              "\n",
              "    .dataframe thead th {\n",
              "        text-align: right;\n",
              "    }\n",
              "</style>\n",
              "<table border=\"1\" class=\"dataframe\">\n",
              "  <thead>\n",
              "    <tr style=\"text-align: right;\">\n",
              "      <th></th>\n",
              "      <th>Id</th>\n",
              "      <th>SalePrice</th>\n",
              "    </tr>\n",
              "  </thead>\n",
              "  <tbody>\n",
              "    <tr>\n",
              "      <th>0</th>\n",
              "      <td>1461</td>\n",
              "      <td>169277.052498</td>\n",
              "    </tr>\n",
              "    <tr>\n",
              "      <th>1</th>\n",
              "      <td>1462</td>\n",
              "      <td>187758.393989</td>\n",
              "    </tr>\n",
              "    <tr>\n",
              "      <th>2</th>\n",
              "      <td>1463</td>\n",
              "      <td>183583.683570</td>\n",
              "    </tr>\n",
              "    <tr>\n",
              "      <th>3</th>\n",
              "      <td>1464</td>\n",
              "      <td>179317.477511</td>\n",
              "    </tr>\n",
              "    <tr>\n",
              "      <th>4</th>\n",
              "      <td>1465</td>\n",
              "      <td>150730.079977</td>\n",
              "    </tr>\n",
              "  </tbody>\n",
              "</table>\n",
              "</div>\n",
              "      <button class=\"colab-df-convert\" onclick=\"convertToInteractive('df-e0831aa1-c2c0-4666-b408-a4a3b3caf0b4')\"\n",
              "              title=\"Convert this dataframe to an interactive table.\"\n",
              "              style=\"display:none;\">\n",
              "        \n",
              "  <svg xmlns=\"http://www.w3.org/2000/svg\" height=\"24px\"viewBox=\"0 0 24 24\"\n",
              "       width=\"24px\">\n",
              "    <path d=\"M0 0h24v24H0V0z\" fill=\"none\"/>\n",
              "    <path d=\"M18.56 5.44l.94 2.06.94-2.06 2.06-.94-2.06-.94-.94-2.06-.94 2.06-2.06.94zm-11 1L8.5 8.5l.94-2.06 2.06-.94-2.06-.94L8.5 2.5l-.94 2.06-2.06.94zm10 10l.94 2.06.94-2.06 2.06-.94-2.06-.94-.94-2.06-.94 2.06-2.06.94z\"/><path d=\"M17.41 7.96l-1.37-1.37c-.4-.4-.92-.59-1.43-.59-.52 0-1.04.2-1.43.59L10.3 9.45l-7.72 7.72c-.78.78-.78 2.05 0 2.83L4 21.41c.39.39.9.59 1.41.59.51 0 1.02-.2 1.41-.59l7.78-7.78 2.81-2.81c.8-.78.8-2.07 0-2.86zM5.41 20L4 18.59l7.72-7.72 1.47 1.35L5.41 20z\"/>\n",
              "  </svg>\n",
              "      </button>\n",
              "      \n",
              "  <style>\n",
              "    .colab-df-container {\n",
              "      display:flex;\n",
              "      flex-wrap:wrap;\n",
              "      gap: 12px;\n",
              "    }\n",
              "\n",
              "    .colab-df-convert {\n",
              "      background-color: #E8F0FE;\n",
              "      border: none;\n",
              "      border-radius: 50%;\n",
              "      cursor: pointer;\n",
              "      display: none;\n",
              "      fill: #1967D2;\n",
              "      height: 32px;\n",
              "      padding: 0 0 0 0;\n",
              "      width: 32px;\n",
              "    }\n",
              "\n",
              "    .colab-df-convert:hover {\n",
              "      background-color: #E2EBFA;\n",
              "      box-shadow: 0px 1px 2px rgba(60, 64, 67, 0.3), 0px 1px 3px 1px rgba(60, 64, 67, 0.15);\n",
              "      fill: #174EA6;\n",
              "    }\n",
              "\n",
              "    [theme=dark] .colab-df-convert {\n",
              "      background-color: #3B4455;\n",
              "      fill: #D2E3FC;\n",
              "    }\n",
              "\n",
              "    [theme=dark] .colab-df-convert:hover {\n",
              "      background-color: #434B5C;\n",
              "      box-shadow: 0px 1px 3px 1px rgba(0, 0, 0, 0.15);\n",
              "      filter: drop-shadow(0px 1px 2px rgba(0, 0, 0, 0.3));\n",
              "      fill: #FFFFFF;\n",
              "    }\n",
              "  </style>\n",
              "\n",
              "      <script>\n",
              "        const buttonEl =\n",
              "          document.querySelector('#df-e0831aa1-c2c0-4666-b408-a4a3b3caf0b4 button.colab-df-convert');\n",
              "        buttonEl.style.display =\n",
              "          google.colab.kernel.accessAllowed ? 'block' : 'none';\n",
              "\n",
              "        async function convertToInteractive(key) {\n",
              "          const element = document.querySelector('#df-e0831aa1-c2c0-4666-b408-a4a3b3caf0b4');\n",
              "          const dataTable =\n",
              "            await google.colab.kernel.invokeFunction('convertToInteractive',\n",
              "                                                     [key], {});\n",
              "          if (!dataTable) return;\n",
              "\n",
              "          const docLinkHtml = 'Like what you see? Visit the ' +\n",
              "            '<a target=\"_blank\" href=https://colab.research.google.com/notebooks/data_table.ipynb>data table notebook</a>'\n",
              "            + ' to learn more about interactive tables.';\n",
              "          element.innerHTML = '';\n",
              "          dataTable['output_type'] = 'display_data';\n",
              "          await google.colab.output.renderOutput(dataTable, element);\n",
              "          const docLink = document.createElement('div');\n",
              "          docLink.innerHTML = docLinkHtml;\n",
              "          element.appendChild(docLink);\n",
              "        }\n",
              "      </script>\n",
              "    </div>\n",
              "  </div>\n",
              "  "
            ],
            "text/plain": [
              "     Id      SalePrice\n",
              "0  1461  169277.052498\n",
              "1  1462  187758.393989\n",
              "2  1463  183583.683570\n",
              "3  1464  179317.477511\n",
              "4  1465  150730.079977"
            ]
          },
          "execution_count": 17,
          "metadata": {},
          "output_type": "execute_result"
        }
      ],
      "source": [
        "test_data_lol = pd.read_csv(\"data/test.csv\")\n",
        "y_lol = pd.read_csv(\"data/sample_submission.csv\")\n",
        "train_data_lol = pd.read_csv(\"data/train.csv\")\n",
        "\n",
        "test_data_lol.head()\n",
        "train_data_lol.head()\n",
        "y_lol.head()"
      ]
    },
    {
      "cell_type": "code",
      "execution_count": null,
      "metadata": {
        "id": "rf5A6PdeiVB0"
      },
      "outputs": [],
      "source": [
        "X_meh = train_data_lol[['LotArea', 'BedroomAbvGr', 'YearBuilt', 'FullBath', 'HalfBath']]\n",
        "y_meh = train_data_lol[['SalePrice']]\n",
        "\n"
      ]
    },
    {
      "cell_type": "code",
      "execution_count": null,
      "metadata": {
        "colab": {
          "base_uri": "https://localhost:8080/"
        },
        "id": "-8xrqOgxlVDL",
        "outputId": "f4726d18-4fbb-4dfc-de67-c52d63fe87f5"
      },
      "outputs": [
        {
          "data": {
            "text/plain": [
              "array([[ 1.68092109e+00, -5.32493704e+02,  8.09952546e+02,\n",
              "         5.34137866e+04,  2.48171163e+04]])"
            ]
          },
          "execution_count": 19,
          "metadata": {},
          "output_type": "execute_result"
        }
      ],
      "source": [
        "\n",
        "reg = LinearRegression().fit(X_meh, y_meh)\n",
        "reg.coef_\n",
        "\n"
      ]
    },
    {
      "cell_type": "code",
      "execution_count": null,
      "metadata": {
        "id": "K0a8oKTJtIJa"
      },
      "outputs": [],
      "source": [
        "# Pickle!\n",
        "import joblib\n",
        "with open('bad_model.pkl', 'wb') as fid:\n",
        "    joblib.dump(reg, fid, compress=9)\n"
      ]
    },
    {
      "cell_type": "code",
      "execution_count": null,
      "metadata": {
        "colab": {
          "base_uri": "https://localhost:8080/"
        },
        "id": "knrnii_bmF6F",
        "outputId": "3b763fcd-3a26-4288-c181-5086a7bfc59e"
      },
      "outputs": [
        {
          "name": "stdout",
          "output_type": "stream",
          "text": [
            "\u001b[2K     \u001b[90m━━━━━━━━━━━━━━━━━━━━━━━━━━━━━━━━━━━━━━━━\u001b[0m \u001b[32m8.9/8.9 MB\u001b[0m \u001b[31m85.8 MB/s\u001b[0m eta \u001b[36m0:00:00\u001b[0m\n",
            "\u001b[2K     \u001b[90m━━━━━━━━━━━━━━━━━━━━━━━━━━━━━━━━━━━━━━\u001b[0m \u001b[32m164.8/164.8 kB\u001b[0m \u001b[31m21.3 MB/s\u001b[0m eta \u001b[36m0:00:00\u001b[0m\n",
            "\u001b[?25h  Preparing metadata (setup.py) ... \u001b[?25l\u001b[?25hdone\n",
            "\u001b[2K     \u001b[90m━━━━━━━━━━━━━━━━━━━━━━━━━━━━━━━━━━━━━━\u001b[0m \u001b[32m184.3/184.3 kB\u001b[0m \u001b[31m21.0 MB/s\u001b[0m eta \u001b[36m0:00:00\u001b[0m\n",
            "\u001b[2K     \u001b[90m━━━━━━━━━━━━━━━━━━━━━━━━━━━━━━━━━━━━━━━━\u001b[0m \u001b[32m4.8/4.8 MB\u001b[0m \u001b[31m87.1 MB/s\u001b[0m eta \u001b[36m0:00:00\u001b[0m\n",
            "\u001b[2K     \u001b[90m━━━━━━━━━━━━━━━━━━━━━━━━━━━━━━━━━━━━━━━━\u001b[0m \u001b[32m82.1/82.1 kB\u001b[0m \u001b[31m10.0 MB/s\u001b[0m eta \u001b[36m0:00:00\u001b[0m\n",
            "\u001b[2K     \u001b[90m━━━━━━━━━━━━━━━━━━━━━━━━━━━━━━━━━━━━━━━━\u001b[0m \u001b[32m62.7/62.7 kB\u001b[0m \u001b[31m7.2 MB/s\u001b[0m eta \u001b[36m0:00:00\u001b[0m\n",
            "\u001b[2K     \u001b[90m━━━━━━━━━━━━━━━━━━━━━━━━━━━━━━━━━━━━━━\u001b[0m \u001b[32m341.8/341.8 kB\u001b[0m \u001b[31m34.6 MB/s\u001b[0m eta \u001b[36m0:00:00\u001b[0m\n",
            "\u001b[?25h  Building wheel for validators (setup.py) ... \u001b[?25l\u001b[?25hdone\n"
          ]
        }
      ],
      "source": [
        "!pip install streamlit -q"
      ]
    },
    {
      "cell_type": "code",
      "execution_count": null,
      "metadata": {
        "colab": {
          "base_uri": "https://localhost:8080/"
        },
        "id": "r3k_a_AEmWhb",
        "outputId": "7926d46b-f3b1-49e1-935d-6372ae94be95"
      },
      "outputs": [
        {
          "name": "stdout",
          "output_type": "stream",
          "text": [
            "Writing app.py\n"
          ]
        }
      ],
      "source": [
        "%%writefile app.py\n",
        "import streamlit as st\n",
        "import joblib\n",
        "\n",
        "with open('bad_model.pkl', 'rb') as f:\n",
        "  model = joblib.load(f)\n",
        "\n",
        "  x = st.slider('Select a value')\n",
        "  st.write(x, 'squared is', x * x)\n"
      ]
    },
    {
      "cell_type": "code",
      "execution_count": null,
      "metadata": {
        "colab": {
          "base_uri": "https://localhost:8080/"
        },
        "id": "93czqI8cmpbD",
        "outputId": "22e32acb-b2d7-419d-8490-8f9e354d2bf0"
      },
      "outputs": [
        {
          "name": "stdout",
          "output_type": "stream",
          "text": [
            "\u001b[K\u001b[?25h\u001b[37;40mnpm\u001b[0m \u001b[0m\u001b[30;43mWARN\u001b[0m \u001b[0m\u001b[35msaveError\u001b[0m ENOENT: no such file or directory, open '/content/package.json'\n",
            "\u001b[K\u001b[?25h\u001b[37;40mnpm\u001b[0m \u001b[0m\u001b[34;40mnotice\u001b[0m\u001b[35m\u001b[0m created a lockfile as package-lock.json. You should commit this file.\n",
            "\u001b[0m\u001b[37;40mnpm\u001b[0m \u001b[0m\u001b[30;43mWARN\u001b[0m \u001b[0m\u001b[35menoent\u001b[0m ENOENT: no such file or directory, open '/content/package.json'\n",
            "\u001b[0m\u001b[37;40mnpm\u001b[0m \u001b[0m\u001b[30;43mWARN\u001b[0m\u001b[35m\u001b[0m content No description\n",
            "\u001b[0m\u001b[37;40mnpm\u001b[0m \u001b[0m\u001b[30;43mWARN\u001b[0m\u001b[35m\u001b[0m content No repository field.\n",
            "\u001b[0m\u001b[37;40mnpm\u001b[0m \u001b[0m\u001b[30;43mWARN\u001b[0m\u001b[35m\u001b[0m content No README data\n",
            "\u001b[0m\u001b[37;40mnpm\u001b[0m \u001b[0m\u001b[30;43mWARN\u001b[0m\u001b[35m\u001b[0m content No license field.\n",
            "\u001b[0m\n",
            "+ localtunnel@2.0.2\n",
            "added 22 packages from 22 contributors and audited 22 packages in 2.075s\n",
            "\n",
            "3 packages are looking for funding\n",
            "  run `npm fund` for details\n",
            "\n",
            "found \u001b[92m0\u001b[0m vulnerabilities\n",
            "\n",
            "\u001b[K\u001b[?25h"
          ]
        }
      ],
      "source": [
        "!npm install localtunnel"
      ]
    },
    {
      "cell_type": "code",
      "execution_count": null,
      "metadata": {
        "colab": {
          "base_uri": "https://localhost:8080/"
        },
        "id": "w-0vDLZLnGow",
        "outputId": "b451ff1a-d093-4342-e8df-c6d7c5bce8a3"
      },
      "outputs": [
        {
          "name": "stdout",
          "output_type": "stream",
          "text": [
            "Password/Enpoint IP for localtunnel is: 35.236.193.204\n"
          ]
        }
      ],
      "source": [
        "import urllib\n",
        "print(\"Password/Enpoint IP for localtunnel is:\",urllib.request.urlopen('https://ipv4.icanhazip.com').read().decode('utf8').strip(\"\\n\"))"
      ]
    },
    {
      "cell_type": "code",
      "execution_count": null,
      "metadata": {
        "colab": {
          "base_uri": "https://localhost:8080/"
        },
        "id": "XDuJv7Alm3cl",
        "outputId": "543d9309-1203-4785-ac1f-b176c3c062ad"
      },
      "outputs": [
        {
          "name": "stdout",
          "output_type": "stream",
          "text": [
            "\u001b[K\u001b[?25hnpx: installed 22 in 2.983s\n",
            "your url is: https://fluffy-zebras-smash.loca.lt\n",
            "^C\n"
          ]
        }
      ],
      "source": [
        "!streamlit run /content/app.py &>/content/logs.txt &\n",
        "!npx localtunnel --port 8501"
      ]
    },
    {
      "cell_type": "code",
      "execution_count": null,
      "metadata": {
        "id": "dV9Ryr3Om8sn"
      },
      "outputs": [],
      "source": []
    }
  ],
  "metadata": {
    "colab": {
      "include_colab_link": true,
      "provenance": []
    },
    "kernelspec": {
      "display_name": "Python 3",
      "name": "python3"
    },
    "language_info": {
      "name": "python"
    }
  },
  "nbformat": 4,
  "nbformat_minor": 0
}
